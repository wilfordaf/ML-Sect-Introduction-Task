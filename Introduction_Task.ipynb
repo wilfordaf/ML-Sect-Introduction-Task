{
  "cells": [
    {
      "cell_type": "markdown",
      "metadata": {
        "id": "NHG0megdc-p2"
      },
      "source": [
        "# Вступительное задание в ML секту\n",
        "\n",
        "## Текст задания\n",
        "Необходимо предсказать популярность песни на Spotify по её характеристикам c помощью датасета SpotifyFeatures.\n",
        "Можно начать с модели линейной регрессии..."
      ]
    },
    {
      "cell_type": "markdown",
      "metadata": {
        "id": "PrE5To8bc-p4"
      },
      "source": [
        "### Импорт и обработка данных"
      ]
    },
    {
      "cell_type": "code",
      "execution_count": 1,
      "metadata": {
        "collapsed": true,
        "id": "b99K_M4lc-p5"
      },
      "outputs": [],
      "source": [
        "import pandas as pd\n",
        "\n",
        "from sklearn.preprocessing import StandardScaler\n",
        "from sklearn.preprocessing import OrdinalEncoder"
      ]
    },
    {
      "cell_type": "code",
      "source": [
        "!gdown 1yKs0teWyaNzcJAXiGcajyInyymMQdzxB"
      ],
      "metadata": {
        "colab": {
          "base_uri": "https://localhost:8080/"
        },
        "id": "FQchCQtgdPFc",
        "outputId": "51f3c215-0bda-41c2-d0da-c0162eb7dc29"
      },
      "execution_count": 2,
      "outputs": [
        {
          "output_type": "stream",
          "name": "stdout",
          "text": [
            "Downloading...\n",
            "From: https://drive.google.com/uc?id=1yKs0teWyaNzcJAXiGcajyInyymMQdzxB\n",
            "To: /content/SpotifyFeatures.csv\n",
            "100% 33.7M/33.7M [00:00<00:00, 159MB/s]\n"
          ]
        }
      ]
    },
    {
      "cell_type": "code",
      "execution_count": 3,
      "metadata": {
        "colab": {
          "base_uri": "https://localhost:8080/",
          "height": 346
        },
        "id": "HZf5elY8c-p6",
        "outputId": "e4130159-8baa-43ca-bfc3-4980faa7fc63"
      },
      "outputs": [
        {
          "output_type": "execute_result",
          "data": {
            "text/plain": [
              "   genre        artist_name                        track_name  \\\n",
              "0  Movie     Henri Salvador       C'est beau de faire un Show   \n",
              "1  Movie  Martin & les fées  Perdu d'avance (par Gad Elmaleh)   \n",
              "2  Movie    Joseph Williams    Don't Let Me Be Lonely Tonight   \n",
              "\n",
              "                 track_id  popularity  acousticness  danceability  \\\n",
              "0  0BRjO6ga9RKCKjfDqeFgWV           0         0.611         0.389   \n",
              "1  0BjC1NfoEOOusryehmNudP           1         0.246         0.590   \n",
              "2  0CoSDzoNIKCRs124s9uTVy           3         0.952         0.663   \n",
              "\n",
              "   duration_ms  energy  instrumentalness key  liveness  loudness   mode  \\\n",
              "0        99373   0.910               0.0  C#     0.346    -1.828  Major   \n",
              "1       137373   0.737               0.0  F#     0.151    -5.559  Minor   \n",
              "2       170267   0.131               0.0   C     0.103   -13.879  Minor   \n",
              "\n",
              "   speechiness    tempo time_signature  valence  \n",
              "0       0.0525  166.969            4/4    0.814  \n",
              "1       0.0868  174.003            4/4    0.816  \n",
              "2       0.0362   99.488            5/4    0.368  "
            ],
            "text/html": [
              "\n",
              "  <div id=\"df-b050fdc3-9781-4b47-8823-f82c2c54dd3f\">\n",
              "    <div class=\"colab-df-container\">\n",
              "      <div>\n",
              "<style scoped>\n",
              "    .dataframe tbody tr th:only-of-type {\n",
              "        vertical-align: middle;\n",
              "    }\n",
              "\n",
              "    .dataframe tbody tr th {\n",
              "        vertical-align: top;\n",
              "    }\n",
              "\n",
              "    .dataframe thead th {\n",
              "        text-align: right;\n",
              "    }\n",
              "</style>\n",
              "<table border=\"1\" class=\"dataframe\">\n",
              "  <thead>\n",
              "    <tr style=\"text-align: right;\">\n",
              "      <th></th>\n",
              "      <th>genre</th>\n",
              "      <th>artist_name</th>\n",
              "      <th>track_name</th>\n",
              "      <th>track_id</th>\n",
              "      <th>popularity</th>\n",
              "      <th>acousticness</th>\n",
              "      <th>danceability</th>\n",
              "      <th>duration_ms</th>\n",
              "      <th>energy</th>\n",
              "      <th>instrumentalness</th>\n",
              "      <th>key</th>\n",
              "      <th>liveness</th>\n",
              "      <th>loudness</th>\n",
              "      <th>mode</th>\n",
              "      <th>speechiness</th>\n",
              "      <th>tempo</th>\n",
              "      <th>time_signature</th>\n",
              "      <th>valence</th>\n",
              "    </tr>\n",
              "  </thead>\n",
              "  <tbody>\n",
              "    <tr>\n",
              "      <th>0</th>\n",
              "      <td>Movie</td>\n",
              "      <td>Henri Salvador</td>\n",
              "      <td>C'est beau de faire un Show</td>\n",
              "      <td>0BRjO6ga9RKCKjfDqeFgWV</td>\n",
              "      <td>0</td>\n",
              "      <td>0.611</td>\n",
              "      <td>0.389</td>\n",
              "      <td>99373</td>\n",
              "      <td>0.910</td>\n",
              "      <td>0.0</td>\n",
              "      <td>C#</td>\n",
              "      <td>0.346</td>\n",
              "      <td>-1.828</td>\n",
              "      <td>Major</td>\n",
              "      <td>0.0525</td>\n",
              "      <td>166.969</td>\n",
              "      <td>4/4</td>\n",
              "      <td>0.814</td>\n",
              "    </tr>\n",
              "    <tr>\n",
              "      <th>1</th>\n",
              "      <td>Movie</td>\n",
              "      <td>Martin &amp; les fées</td>\n",
              "      <td>Perdu d'avance (par Gad Elmaleh)</td>\n",
              "      <td>0BjC1NfoEOOusryehmNudP</td>\n",
              "      <td>1</td>\n",
              "      <td>0.246</td>\n",
              "      <td>0.590</td>\n",
              "      <td>137373</td>\n",
              "      <td>0.737</td>\n",
              "      <td>0.0</td>\n",
              "      <td>F#</td>\n",
              "      <td>0.151</td>\n",
              "      <td>-5.559</td>\n",
              "      <td>Minor</td>\n",
              "      <td>0.0868</td>\n",
              "      <td>174.003</td>\n",
              "      <td>4/4</td>\n",
              "      <td>0.816</td>\n",
              "    </tr>\n",
              "    <tr>\n",
              "      <th>2</th>\n",
              "      <td>Movie</td>\n",
              "      <td>Joseph Williams</td>\n",
              "      <td>Don't Let Me Be Lonely Tonight</td>\n",
              "      <td>0CoSDzoNIKCRs124s9uTVy</td>\n",
              "      <td>3</td>\n",
              "      <td>0.952</td>\n",
              "      <td>0.663</td>\n",
              "      <td>170267</td>\n",
              "      <td>0.131</td>\n",
              "      <td>0.0</td>\n",
              "      <td>C</td>\n",
              "      <td>0.103</td>\n",
              "      <td>-13.879</td>\n",
              "      <td>Minor</td>\n",
              "      <td>0.0362</td>\n",
              "      <td>99.488</td>\n",
              "      <td>5/4</td>\n",
              "      <td>0.368</td>\n",
              "    </tr>\n",
              "  </tbody>\n",
              "</table>\n",
              "</div>\n",
              "      <button class=\"colab-df-convert\" onclick=\"convertToInteractive('df-b050fdc3-9781-4b47-8823-f82c2c54dd3f')\"\n",
              "              title=\"Convert this dataframe to an interactive table.\"\n",
              "              style=\"display:none;\">\n",
              "        \n",
              "  <svg xmlns=\"http://www.w3.org/2000/svg\" height=\"24px\"viewBox=\"0 0 24 24\"\n",
              "       width=\"24px\">\n",
              "    <path d=\"M0 0h24v24H0V0z\" fill=\"none\"/>\n",
              "    <path d=\"M18.56 5.44l.94 2.06.94-2.06 2.06-.94-2.06-.94-.94-2.06-.94 2.06-2.06.94zm-11 1L8.5 8.5l.94-2.06 2.06-.94-2.06-.94L8.5 2.5l-.94 2.06-2.06.94zm10 10l.94 2.06.94-2.06 2.06-.94-2.06-.94-.94-2.06-.94 2.06-2.06.94z\"/><path d=\"M17.41 7.96l-1.37-1.37c-.4-.4-.92-.59-1.43-.59-.52 0-1.04.2-1.43.59L10.3 9.45l-7.72 7.72c-.78.78-.78 2.05 0 2.83L4 21.41c.39.39.9.59 1.41.59.51 0 1.02-.2 1.41-.59l7.78-7.78 2.81-2.81c.8-.78.8-2.07 0-2.86zM5.41 20L4 18.59l7.72-7.72 1.47 1.35L5.41 20z\"/>\n",
              "  </svg>\n",
              "      </button>\n",
              "      \n",
              "  <style>\n",
              "    .colab-df-container {\n",
              "      display:flex;\n",
              "      flex-wrap:wrap;\n",
              "      gap: 12px;\n",
              "    }\n",
              "\n",
              "    .colab-df-convert {\n",
              "      background-color: #E8F0FE;\n",
              "      border: none;\n",
              "      border-radius: 50%;\n",
              "      cursor: pointer;\n",
              "      display: none;\n",
              "      fill: #1967D2;\n",
              "      height: 32px;\n",
              "      padding: 0 0 0 0;\n",
              "      width: 32px;\n",
              "    }\n",
              "\n",
              "    .colab-df-convert:hover {\n",
              "      background-color: #E2EBFA;\n",
              "      box-shadow: 0px 1px 2px rgba(60, 64, 67, 0.3), 0px 1px 3px 1px rgba(60, 64, 67, 0.15);\n",
              "      fill: #174EA6;\n",
              "    }\n",
              "\n",
              "    [theme=dark] .colab-df-convert {\n",
              "      background-color: #3B4455;\n",
              "      fill: #D2E3FC;\n",
              "    }\n",
              "\n",
              "    [theme=dark] .colab-df-convert:hover {\n",
              "      background-color: #434B5C;\n",
              "      box-shadow: 0px 1px 3px 1px rgba(0, 0, 0, 0.15);\n",
              "      filter: drop-shadow(0px 1px 2px rgba(0, 0, 0, 0.3));\n",
              "      fill: #FFFFFF;\n",
              "    }\n",
              "  </style>\n",
              "\n",
              "      <script>\n",
              "        const buttonEl =\n",
              "          document.querySelector('#df-b050fdc3-9781-4b47-8823-f82c2c54dd3f button.colab-df-convert');\n",
              "        buttonEl.style.display =\n",
              "          google.colab.kernel.accessAllowed ? 'block' : 'none';\n",
              "\n",
              "        async function convertToInteractive(key) {\n",
              "          const element = document.querySelector('#df-b050fdc3-9781-4b47-8823-f82c2c54dd3f');\n",
              "          const dataTable =\n",
              "            await google.colab.kernel.invokeFunction('convertToInteractive',\n",
              "                                                     [key], {});\n",
              "          if (!dataTable) return;\n",
              "\n",
              "          const docLinkHtml = 'Like what you see? Visit the ' +\n",
              "            '<a target=\"_blank\" href=https://colab.research.google.com/notebooks/data_table.ipynb>data table notebook</a>'\n",
              "            + ' to learn more about interactive tables.';\n",
              "          element.innerHTML = '';\n",
              "          dataTable['output_type'] = 'display_data';\n",
              "          await google.colab.output.renderOutput(dataTable, element);\n",
              "          const docLink = document.createElement('div');\n",
              "          docLink.innerHTML = docLinkHtml;\n",
              "          element.appendChild(docLink);\n",
              "        }\n",
              "      </script>\n",
              "    </div>\n",
              "  </div>\n",
              "  "
            ]
          },
          "metadata": {},
          "execution_count": 3
        }
      ],
      "source": [
        "original_dataset = pd.read_csv(\"SpotifyFeatures.csv\")\n",
        "\n",
        "original_dataset.head(3)"
      ]
    },
    {
      "cell_type": "code",
      "execution_count": 4,
      "metadata": {
        "id": "elouIwekc-p6"
      },
      "outputs": [],
      "source": [
        "dataset = original_dataset.copy(deep=True)"
      ]
    },
    {
      "cell_type": "markdown",
      "metadata": {
        "id": "TuuNul-Kc-p7"
      },
      "source": [
        "#### Убираем ненужные параметры, бинарные приводим к численным"
      ]
    },
    {
      "cell_type": "code",
      "execution_count": 5,
      "metadata": {
        "colab": {
          "base_uri": "https://localhost:8080/",
          "height": 143
        },
        "id": "ONsdmWjwc-p7",
        "outputId": "324508ed-4c00-4d78-87cc-7ddcbcc8a14e"
      },
      "outputs": [
        {
          "output_type": "execute_result",
          "data": {
            "text/plain": [
              "   genre  popularity  acousticness  danceability  duration_ms  energy  \\\n",
              "0  Movie           0         0.611         0.389        99373   0.910   \n",
              "1  Movie           1         0.246         0.590       137373   0.737   \n",
              "2  Movie           3         0.952         0.663       170267   0.131   \n",
              "\n",
              "   instrumentalness key  liveness  loudness  mode  speechiness    tempo  \\\n",
              "0               0.0  C#     0.346    -1.828   1.0       0.0525  166.969   \n",
              "1               0.0  F#     0.151    -5.559   0.0       0.0868  174.003   \n",
              "2               0.0   C     0.103   -13.879   0.0       0.0362   99.488   \n",
              "\n",
              "  time_signature  valence  \n",
              "0            4/4    0.814  \n",
              "1            4/4    0.816  \n",
              "2            5/4    0.368  "
            ],
            "text/html": [
              "\n",
              "  <div id=\"df-e5529f0a-53ff-4f57-bcd4-7e729e22f18c\">\n",
              "    <div class=\"colab-df-container\">\n",
              "      <div>\n",
              "<style scoped>\n",
              "    .dataframe tbody tr th:only-of-type {\n",
              "        vertical-align: middle;\n",
              "    }\n",
              "\n",
              "    .dataframe tbody tr th {\n",
              "        vertical-align: top;\n",
              "    }\n",
              "\n",
              "    .dataframe thead th {\n",
              "        text-align: right;\n",
              "    }\n",
              "</style>\n",
              "<table border=\"1\" class=\"dataframe\">\n",
              "  <thead>\n",
              "    <tr style=\"text-align: right;\">\n",
              "      <th></th>\n",
              "      <th>genre</th>\n",
              "      <th>popularity</th>\n",
              "      <th>acousticness</th>\n",
              "      <th>danceability</th>\n",
              "      <th>duration_ms</th>\n",
              "      <th>energy</th>\n",
              "      <th>instrumentalness</th>\n",
              "      <th>key</th>\n",
              "      <th>liveness</th>\n",
              "      <th>loudness</th>\n",
              "      <th>mode</th>\n",
              "      <th>speechiness</th>\n",
              "      <th>tempo</th>\n",
              "      <th>time_signature</th>\n",
              "      <th>valence</th>\n",
              "    </tr>\n",
              "  </thead>\n",
              "  <tbody>\n",
              "    <tr>\n",
              "      <th>0</th>\n",
              "      <td>Movie</td>\n",
              "      <td>0</td>\n",
              "      <td>0.611</td>\n",
              "      <td>0.389</td>\n",
              "      <td>99373</td>\n",
              "      <td>0.910</td>\n",
              "      <td>0.0</td>\n",
              "      <td>C#</td>\n",
              "      <td>0.346</td>\n",
              "      <td>-1.828</td>\n",
              "      <td>1.0</td>\n",
              "      <td>0.0525</td>\n",
              "      <td>166.969</td>\n",
              "      <td>4/4</td>\n",
              "      <td>0.814</td>\n",
              "    </tr>\n",
              "    <tr>\n",
              "      <th>1</th>\n",
              "      <td>Movie</td>\n",
              "      <td>1</td>\n",
              "      <td>0.246</td>\n",
              "      <td>0.590</td>\n",
              "      <td>137373</td>\n",
              "      <td>0.737</td>\n",
              "      <td>0.0</td>\n",
              "      <td>F#</td>\n",
              "      <td>0.151</td>\n",
              "      <td>-5.559</td>\n",
              "      <td>0.0</td>\n",
              "      <td>0.0868</td>\n",
              "      <td>174.003</td>\n",
              "      <td>4/4</td>\n",
              "      <td>0.816</td>\n",
              "    </tr>\n",
              "    <tr>\n",
              "      <th>2</th>\n",
              "      <td>Movie</td>\n",
              "      <td>3</td>\n",
              "      <td>0.952</td>\n",
              "      <td>0.663</td>\n",
              "      <td>170267</td>\n",
              "      <td>0.131</td>\n",
              "      <td>0.0</td>\n",
              "      <td>C</td>\n",
              "      <td>0.103</td>\n",
              "      <td>-13.879</td>\n",
              "      <td>0.0</td>\n",
              "      <td>0.0362</td>\n",
              "      <td>99.488</td>\n",
              "      <td>5/4</td>\n",
              "      <td>0.368</td>\n",
              "    </tr>\n",
              "  </tbody>\n",
              "</table>\n",
              "</div>\n",
              "      <button class=\"colab-df-convert\" onclick=\"convertToInteractive('df-e5529f0a-53ff-4f57-bcd4-7e729e22f18c')\"\n",
              "              title=\"Convert this dataframe to an interactive table.\"\n",
              "              style=\"display:none;\">\n",
              "        \n",
              "  <svg xmlns=\"http://www.w3.org/2000/svg\" height=\"24px\"viewBox=\"0 0 24 24\"\n",
              "       width=\"24px\">\n",
              "    <path d=\"M0 0h24v24H0V0z\" fill=\"none\"/>\n",
              "    <path d=\"M18.56 5.44l.94 2.06.94-2.06 2.06-.94-2.06-.94-.94-2.06-.94 2.06-2.06.94zm-11 1L8.5 8.5l.94-2.06 2.06-.94-2.06-.94L8.5 2.5l-.94 2.06-2.06.94zm10 10l.94 2.06.94-2.06 2.06-.94-2.06-.94-.94-2.06-.94 2.06-2.06.94z\"/><path d=\"M17.41 7.96l-1.37-1.37c-.4-.4-.92-.59-1.43-.59-.52 0-1.04.2-1.43.59L10.3 9.45l-7.72 7.72c-.78.78-.78 2.05 0 2.83L4 21.41c.39.39.9.59 1.41.59.51 0 1.02-.2 1.41-.59l7.78-7.78 2.81-2.81c.8-.78.8-2.07 0-2.86zM5.41 20L4 18.59l7.72-7.72 1.47 1.35L5.41 20z\"/>\n",
              "  </svg>\n",
              "      </button>\n",
              "      \n",
              "  <style>\n",
              "    .colab-df-container {\n",
              "      display:flex;\n",
              "      flex-wrap:wrap;\n",
              "      gap: 12px;\n",
              "    }\n",
              "\n",
              "    .colab-df-convert {\n",
              "      background-color: #E8F0FE;\n",
              "      border: none;\n",
              "      border-radius: 50%;\n",
              "      cursor: pointer;\n",
              "      display: none;\n",
              "      fill: #1967D2;\n",
              "      height: 32px;\n",
              "      padding: 0 0 0 0;\n",
              "      width: 32px;\n",
              "    }\n",
              "\n",
              "    .colab-df-convert:hover {\n",
              "      background-color: #E2EBFA;\n",
              "      box-shadow: 0px 1px 2px rgba(60, 64, 67, 0.3), 0px 1px 3px 1px rgba(60, 64, 67, 0.15);\n",
              "      fill: #174EA6;\n",
              "    }\n",
              "\n",
              "    [theme=dark] .colab-df-convert {\n",
              "      background-color: #3B4455;\n",
              "      fill: #D2E3FC;\n",
              "    }\n",
              "\n",
              "    [theme=dark] .colab-df-convert:hover {\n",
              "      background-color: #434B5C;\n",
              "      box-shadow: 0px 1px 3px 1px rgba(0, 0, 0, 0.15);\n",
              "      filter: drop-shadow(0px 1px 2px rgba(0, 0, 0, 0.3));\n",
              "      fill: #FFFFFF;\n",
              "    }\n",
              "  </style>\n",
              "\n",
              "      <script>\n",
              "        const buttonEl =\n",
              "          document.querySelector('#df-e5529f0a-53ff-4f57-bcd4-7e729e22f18c button.colab-df-convert');\n",
              "        buttonEl.style.display =\n",
              "          google.colab.kernel.accessAllowed ? 'block' : 'none';\n",
              "\n",
              "        async function convertToInteractive(key) {\n",
              "          const element = document.querySelector('#df-e5529f0a-53ff-4f57-bcd4-7e729e22f18c');\n",
              "          const dataTable =\n",
              "            await google.colab.kernel.invokeFunction('convertToInteractive',\n",
              "                                                     [key], {});\n",
              "          if (!dataTable) return;\n",
              "\n",
              "          const docLinkHtml = 'Like what you see? Visit the ' +\n",
              "            '<a target=\"_blank\" href=https://colab.research.google.com/notebooks/data_table.ipynb>data table notebook</a>'\n",
              "            + ' to learn more about interactive tables.';\n",
              "          element.innerHTML = '';\n",
              "          dataTable['output_type'] = 'display_data';\n",
              "          await google.colab.output.renderOutput(dataTable, element);\n",
              "          const docLink = document.createElement('div');\n",
              "          docLink.innerHTML = docLinkHtml;\n",
              "          element.appendChild(docLink);\n",
              "        }\n",
              "      </script>\n",
              "    </div>\n",
              "  </div>\n",
              "  "
            ]
          },
          "metadata": {},
          "execution_count": 5
        }
      ],
      "source": [
        "dataset.drop(columns=[\"artist_name\", \"track_name\", \"track_id\"], inplace=True)\n",
        "encoder = OrdinalEncoder(categories=[[\"Minor\", \"Major\"]])\n",
        "dataset[[\"mode\"]] = encoder.fit_transform(dataset[[\"mode\"]])\n",
        "\n",
        "dataset.head(3)"
      ]
    },
    {
      "cell_type": "markdown",
      "metadata": {
        "id": "dcCeeu5uc-p7"
      },
      "source": [
        "#### Используем One Hot Encoding для небинарных строчных параметров"
      ]
    },
    {
      "cell_type": "code",
      "execution_count": 6,
      "metadata": {
        "colab": {
          "base_uri": "https://localhost:8080/",
          "height": 173
        },
        "id": "Anw6odiDc-p7",
        "outputId": "9a8bbf9f-95aa-44d1-a583-b0d7a7756181"
      },
      "outputs": [
        {
          "output_type": "execute_result",
          "data": {
            "text/plain": [
              "   popularity  acousticness  danceability  duration_ms  energy  \\\n",
              "0           0         0.611         0.389        99373   0.910   \n",
              "1           1         0.246         0.590       137373   0.737   \n",
              "2           3         0.952         0.663       170267   0.131   \n",
              "\n",
              "   instrumentalness  liveness  loudness  mode  speechiness  ...  E  F  F#  G  \\\n",
              "0               0.0     0.346    -1.828   1.0       0.0525  ...  0  0   0  0   \n",
              "1               0.0     0.151    -5.559   0.0       0.0868  ...  0  0   1  0   \n",
              "2               0.0     0.103   -13.879   0.0       0.0362  ...  0  0   0  0   \n",
              "\n",
              "   G#  0/4  1/4  3/4  4/4  5/4  \n",
              "0   0    0    0    0    1    0  \n",
              "1   0    0    0    0    1    0  \n",
              "2   0    0    0    0    0    1  \n",
              "\n",
              "[3 rows x 56 columns]"
            ],
            "text/html": [
              "\n",
              "  <div id=\"df-bf73a05e-354d-4d61-be4c-22759bc5a443\">\n",
              "    <div class=\"colab-df-container\">\n",
              "      <div>\n",
              "<style scoped>\n",
              "    .dataframe tbody tr th:only-of-type {\n",
              "        vertical-align: middle;\n",
              "    }\n",
              "\n",
              "    .dataframe tbody tr th {\n",
              "        vertical-align: top;\n",
              "    }\n",
              "\n",
              "    .dataframe thead th {\n",
              "        text-align: right;\n",
              "    }\n",
              "</style>\n",
              "<table border=\"1\" class=\"dataframe\">\n",
              "  <thead>\n",
              "    <tr style=\"text-align: right;\">\n",
              "      <th></th>\n",
              "      <th>popularity</th>\n",
              "      <th>acousticness</th>\n",
              "      <th>danceability</th>\n",
              "      <th>duration_ms</th>\n",
              "      <th>energy</th>\n",
              "      <th>instrumentalness</th>\n",
              "      <th>liveness</th>\n",
              "      <th>loudness</th>\n",
              "      <th>mode</th>\n",
              "      <th>speechiness</th>\n",
              "      <th>...</th>\n",
              "      <th>E</th>\n",
              "      <th>F</th>\n",
              "      <th>F#</th>\n",
              "      <th>G</th>\n",
              "      <th>G#</th>\n",
              "      <th>0/4</th>\n",
              "      <th>1/4</th>\n",
              "      <th>3/4</th>\n",
              "      <th>4/4</th>\n",
              "      <th>5/4</th>\n",
              "    </tr>\n",
              "  </thead>\n",
              "  <tbody>\n",
              "    <tr>\n",
              "      <th>0</th>\n",
              "      <td>0</td>\n",
              "      <td>0.611</td>\n",
              "      <td>0.389</td>\n",
              "      <td>99373</td>\n",
              "      <td>0.910</td>\n",
              "      <td>0.0</td>\n",
              "      <td>0.346</td>\n",
              "      <td>-1.828</td>\n",
              "      <td>1.0</td>\n",
              "      <td>0.0525</td>\n",
              "      <td>...</td>\n",
              "      <td>0</td>\n",
              "      <td>0</td>\n",
              "      <td>0</td>\n",
              "      <td>0</td>\n",
              "      <td>0</td>\n",
              "      <td>0</td>\n",
              "      <td>0</td>\n",
              "      <td>0</td>\n",
              "      <td>1</td>\n",
              "      <td>0</td>\n",
              "    </tr>\n",
              "    <tr>\n",
              "      <th>1</th>\n",
              "      <td>1</td>\n",
              "      <td>0.246</td>\n",
              "      <td>0.590</td>\n",
              "      <td>137373</td>\n",
              "      <td>0.737</td>\n",
              "      <td>0.0</td>\n",
              "      <td>0.151</td>\n",
              "      <td>-5.559</td>\n",
              "      <td>0.0</td>\n",
              "      <td>0.0868</td>\n",
              "      <td>...</td>\n",
              "      <td>0</td>\n",
              "      <td>0</td>\n",
              "      <td>1</td>\n",
              "      <td>0</td>\n",
              "      <td>0</td>\n",
              "      <td>0</td>\n",
              "      <td>0</td>\n",
              "      <td>0</td>\n",
              "      <td>1</td>\n",
              "      <td>0</td>\n",
              "    </tr>\n",
              "    <tr>\n",
              "      <th>2</th>\n",
              "      <td>3</td>\n",
              "      <td>0.952</td>\n",
              "      <td>0.663</td>\n",
              "      <td>170267</td>\n",
              "      <td>0.131</td>\n",
              "      <td>0.0</td>\n",
              "      <td>0.103</td>\n",
              "      <td>-13.879</td>\n",
              "      <td>0.0</td>\n",
              "      <td>0.0362</td>\n",
              "      <td>...</td>\n",
              "      <td>0</td>\n",
              "      <td>0</td>\n",
              "      <td>0</td>\n",
              "      <td>0</td>\n",
              "      <td>0</td>\n",
              "      <td>0</td>\n",
              "      <td>0</td>\n",
              "      <td>0</td>\n",
              "      <td>0</td>\n",
              "      <td>1</td>\n",
              "    </tr>\n",
              "  </tbody>\n",
              "</table>\n",
              "<p>3 rows × 56 columns</p>\n",
              "</div>\n",
              "      <button class=\"colab-df-convert\" onclick=\"convertToInteractive('df-bf73a05e-354d-4d61-be4c-22759bc5a443')\"\n",
              "              title=\"Convert this dataframe to an interactive table.\"\n",
              "              style=\"display:none;\">\n",
              "        \n",
              "  <svg xmlns=\"http://www.w3.org/2000/svg\" height=\"24px\"viewBox=\"0 0 24 24\"\n",
              "       width=\"24px\">\n",
              "    <path d=\"M0 0h24v24H0V0z\" fill=\"none\"/>\n",
              "    <path d=\"M18.56 5.44l.94 2.06.94-2.06 2.06-.94-2.06-.94-.94-2.06-.94 2.06-2.06.94zm-11 1L8.5 8.5l.94-2.06 2.06-.94-2.06-.94L8.5 2.5l-.94 2.06-2.06.94zm10 10l.94 2.06.94-2.06 2.06-.94-2.06-.94-.94-2.06-.94 2.06-2.06.94z\"/><path d=\"M17.41 7.96l-1.37-1.37c-.4-.4-.92-.59-1.43-.59-.52 0-1.04.2-1.43.59L10.3 9.45l-7.72 7.72c-.78.78-.78 2.05 0 2.83L4 21.41c.39.39.9.59 1.41.59.51 0 1.02-.2 1.41-.59l7.78-7.78 2.81-2.81c.8-.78.8-2.07 0-2.86zM5.41 20L4 18.59l7.72-7.72 1.47 1.35L5.41 20z\"/>\n",
              "  </svg>\n",
              "      </button>\n",
              "      \n",
              "  <style>\n",
              "    .colab-df-container {\n",
              "      display:flex;\n",
              "      flex-wrap:wrap;\n",
              "      gap: 12px;\n",
              "    }\n",
              "\n",
              "    .colab-df-convert {\n",
              "      background-color: #E8F0FE;\n",
              "      border: none;\n",
              "      border-radius: 50%;\n",
              "      cursor: pointer;\n",
              "      display: none;\n",
              "      fill: #1967D2;\n",
              "      height: 32px;\n",
              "      padding: 0 0 0 0;\n",
              "      width: 32px;\n",
              "    }\n",
              "\n",
              "    .colab-df-convert:hover {\n",
              "      background-color: #E2EBFA;\n",
              "      box-shadow: 0px 1px 2px rgba(60, 64, 67, 0.3), 0px 1px 3px 1px rgba(60, 64, 67, 0.15);\n",
              "      fill: #174EA6;\n",
              "    }\n",
              "\n",
              "    [theme=dark] .colab-df-convert {\n",
              "      background-color: #3B4455;\n",
              "      fill: #D2E3FC;\n",
              "    }\n",
              "\n",
              "    [theme=dark] .colab-df-convert:hover {\n",
              "      background-color: #434B5C;\n",
              "      box-shadow: 0px 1px 3px 1px rgba(0, 0, 0, 0.15);\n",
              "      filter: drop-shadow(0px 1px 2px rgba(0, 0, 0, 0.3));\n",
              "      fill: #FFFFFF;\n",
              "    }\n",
              "  </style>\n",
              "\n",
              "      <script>\n",
              "        const buttonEl =\n",
              "          document.querySelector('#df-bf73a05e-354d-4d61-be4c-22759bc5a443 button.colab-df-convert');\n",
              "        buttonEl.style.display =\n",
              "          google.colab.kernel.accessAllowed ? 'block' : 'none';\n",
              "\n",
              "        async function convertToInteractive(key) {\n",
              "          const element = document.querySelector('#df-bf73a05e-354d-4d61-be4c-22759bc5a443');\n",
              "          const dataTable =\n",
              "            await google.colab.kernel.invokeFunction('convertToInteractive',\n",
              "                                                     [key], {});\n",
              "          if (!dataTable) return;\n",
              "\n",
              "          const docLinkHtml = 'Like what you see? Visit the ' +\n",
              "            '<a target=\"_blank\" href=https://colab.research.google.com/notebooks/data_table.ipynb>data table notebook</a>'\n",
              "            + ' to learn more about interactive tables.';\n",
              "          element.innerHTML = '';\n",
              "          dataTable['output_type'] = 'display_data';\n",
              "          await google.colab.output.renderOutput(dataTable, element);\n",
              "          const docLink = document.createElement('div');\n",
              "          docLink.innerHTML = docLinkHtml;\n",
              "          element.appendChild(docLink);\n",
              "        }\n",
              "      </script>\n",
              "    </div>\n",
              "  </div>\n",
              "  "
            ]
          },
          "metadata": {},
          "execution_count": 6
        }
      ],
      "source": [
        "one_hot_encoding_columns = [\"genre\", \"key\", \"time_signature\"]\n",
        "for column in one_hot_encoding_columns:\n",
        "    encoded_column = pd.get_dummies(dataset[column])\n",
        "    dataset = pd.concat([dataset, encoded_column], axis=1)\n",
        "    dataset.drop(column, axis=1, inplace=True)\n",
        "\n",
        "dataset.head(3)"
      ]
    },
    {
      "cell_type": "markdown",
      "metadata": {
        "id": "i3VanrsXc-p8"
      },
      "source": [
        "#### Т.к. данные неоднородные, используем Standard Scaler\n",
        "\n",
        "В данном случае выбросы не были найдены, так что противопоказаний для использования Scaler нет."
      ]
    },
    {
      "cell_type": "code",
      "execution_count": 7,
      "metadata": {
        "colab": {
          "base_uri": "https://localhost:8080/",
          "height": 237
        },
        "id": "7Ijgcg4Dc-p8",
        "outputId": "b664bca1-450b-4ca4-a5d1-b970cbde96f4"
      },
      "outputs": [
        {
          "output_type": "execute_result",
          "data": {
            "text/plain": [
              "   popularity  acousticness  danceability  duration_ms    energy  \\\n",
              "0           0      0.683376     -0.890935    -1.141368  1.286908   \n",
              "1           1     -0.345467      0.191994    -0.821867  0.630249   \n",
              "2           3      1.644570      0.585296    -0.545298 -1.669954   \n",
              "\n",
              "   instrumentalness  liveness  loudness      mode  speechiness  ...         E  \\\n",
              "0         -0.489819  0.660661  1.290703  0.730526    -0.367970  ... -0.284179   \n",
              "1         -0.489819 -0.322835  0.668683 -1.368876    -0.183082  ... -0.284179   \n",
              "2         -0.489819 -0.564927 -0.718402 -1.368876    -0.455832  ... -0.284179   \n",
              "\n",
              "          F        F#         G        G#       0/4       1/4       3/4  \\\n",
              "0 -0.308958 -0.264547 -0.357629 -0.263961 -0.005863 -0.106458 -0.339966   \n",
              "1 -0.308958  3.780043 -0.357629 -0.263961 -0.005863 -0.106458 -0.339966   \n",
              "2 -0.308958 -0.264547 -0.357629 -0.263961 -0.005863 -0.106458 -0.339966   \n",
              "\n",
              "        4/4       5/4  \n",
              "0  0.399024 -0.151742  \n",
              "1  0.399024 -0.151742  \n",
              "2 -2.506116  6.590154  \n",
              "\n",
              "[3 rows x 56 columns]"
            ],
            "text/html": [
              "\n",
              "  <div id=\"df-53b03891-edef-4fae-a3a2-898f99f36fc3\">\n",
              "    <div class=\"colab-df-container\">\n",
              "      <div>\n",
              "<style scoped>\n",
              "    .dataframe tbody tr th:only-of-type {\n",
              "        vertical-align: middle;\n",
              "    }\n",
              "\n",
              "    .dataframe tbody tr th {\n",
              "        vertical-align: top;\n",
              "    }\n",
              "\n",
              "    .dataframe thead th {\n",
              "        text-align: right;\n",
              "    }\n",
              "</style>\n",
              "<table border=\"1\" class=\"dataframe\">\n",
              "  <thead>\n",
              "    <tr style=\"text-align: right;\">\n",
              "      <th></th>\n",
              "      <th>popularity</th>\n",
              "      <th>acousticness</th>\n",
              "      <th>danceability</th>\n",
              "      <th>duration_ms</th>\n",
              "      <th>energy</th>\n",
              "      <th>instrumentalness</th>\n",
              "      <th>liveness</th>\n",
              "      <th>loudness</th>\n",
              "      <th>mode</th>\n",
              "      <th>speechiness</th>\n",
              "      <th>...</th>\n",
              "      <th>E</th>\n",
              "      <th>F</th>\n",
              "      <th>F#</th>\n",
              "      <th>G</th>\n",
              "      <th>G#</th>\n",
              "      <th>0/4</th>\n",
              "      <th>1/4</th>\n",
              "      <th>3/4</th>\n",
              "      <th>4/4</th>\n",
              "      <th>5/4</th>\n",
              "    </tr>\n",
              "  </thead>\n",
              "  <tbody>\n",
              "    <tr>\n",
              "      <th>0</th>\n",
              "      <td>0</td>\n",
              "      <td>0.683376</td>\n",
              "      <td>-0.890935</td>\n",
              "      <td>-1.141368</td>\n",
              "      <td>1.286908</td>\n",
              "      <td>-0.489819</td>\n",
              "      <td>0.660661</td>\n",
              "      <td>1.290703</td>\n",
              "      <td>0.730526</td>\n",
              "      <td>-0.367970</td>\n",
              "      <td>...</td>\n",
              "      <td>-0.284179</td>\n",
              "      <td>-0.308958</td>\n",
              "      <td>-0.264547</td>\n",
              "      <td>-0.357629</td>\n",
              "      <td>-0.263961</td>\n",
              "      <td>-0.005863</td>\n",
              "      <td>-0.106458</td>\n",
              "      <td>-0.339966</td>\n",
              "      <td>0.399024</td>\n",
              "      <td>-0.151742</td>\n",
              "    </tr>\n",
              "    <tr>\n",
              "      <th>1</th>\n",
              "      <td>1</td>\n",
              "      <td>-0.345467</td>\n",
              "      <td>0.191994</td>\n",
              "      <td>-0.821867</td>\n",
              "      <td>0.630249</td>\n",
              "      <td>-0.489819</td>\n",
              "      <td>-0.322835</td>\n",
              "      <td>0.668683</td>\n",
              "      <td>-1.368876</td>\n",
              "      <td>-0.183082</td>\n",
              "      <td>...</td>\n",
              "      <td>-0.284179</td>\n",
              "      <td>-0.308958</td>\n",
              "      <td>3.780043</td>\n",
              "      <td>-0.357629</td>\n",
              "      <td>-0.263961</td>\n",
              "      <td>-0.005863</td>\n",
              "      <td>-0.106458</td>\n",
              "      <td>-0.339966</td>\n",
              "      <td>0.399024</td>\n",
              "      <td>-0.151742</td>\n",
              "    </tr>\n",
              "    <tr>\n",
              "      <th>2</th>\n",
              "      <td>3</td>\n",
              "      <td>1.644570</td>\n",
              "      <td>0.585296</td>\n",
              "      <td>-0.545298</td>\n",
              "      <td>-1.669954</td>\n",
              "      <td>-0.489819</td>\n",
              "      <td>-0.564927</td>\n",
              "      <td>-0.718402</td>\n",
              "      <td>-1.368876</td>\n",
              "      <td>-0.455832</td>\n",
              "      <td>...</td>\n",
              "      <td>-0.284179</td>\n",
              "      <td>-0.308958</td>\n",
              "      <td>-0.264547</td>\n",
              "      <td>-0.357629</td>\n",
              "      <td>-0.263961</td>\n",
              "      <td>-0.005863</td>\n",
              "      <td>-0.106458</td>\n",
              "      <td>-0.339966</td>\n",
              "      <td>-2.506116</td>\n",
              "      <td>6.590154</td>\n",
              "    </tr>\n",
              "  </tbody>\n",
              "</table>\n",
              "<p>3 rows × 56 columns</p>\n",
              "</div>\n",
              "      <button class=\"colab-df-convert\" onclick=\"convertToInteractive('df-53b03891-edef-4fae-a3a2-898f99f36fc3')\"\n",
              "              title=\"Convert this dataframe to an interactive table.\"\n",
              "              style=\"display:none;\">\n",
              "        \n",
              "  <svg xmlns=\"http://www.w3.org/2000/svg\" height=\"24px\"viewBox=\"0 0 24 24\"\n",
              "       width=\"24px\">\n",
              "    <path d=\"M0 0h24v24H0V0z\" fill=\"none\"/>\n",
              "    <path d=\"M18.56 5.44l.94 2.06.94-2.06 2.06-.94-2.06-.94-.94-2.06-.94 2.06-2.06.94zm-11 1L8.5 8.5l.94-2.06 2.06-.94-2.06-.94L8.5 2.5l-.94 2.06-2.06.94zm10 10l.94 2.06.94-2.06 2.06-.94-2.06-.94-.94-2.06-.94 2.06-2.06.94z\"/><path d=\"M17.41 7.96l-1.37-1.37c-.4-.4-.92-.59-1.43-.59-.52 0-1.04.2-1.43.59L10.3 9.45l-7.72 7.72c-.78.78-.78 2.05 0 2.83L4 21.41c.39.39.9.59 1.41.59.51 0 1.02-.2 1.41-.59l7.78-7.78 2.81-2.81c.8-.78.8-2.07 0-2.86zM5.41 20L4 18.59l7.72-7.72 1.47 1.35L5.41 20z\"/>\n",
              "  </svg>\n",
              "      </button>\n",
              "      \n",
              "  <style>\n",
              "    .colab-df-container {\n",
              "      display:flex;\n",
              "      flex-wrap:wrap;\n",
              "      gap: 12px;\n",
              "    }\n",
              "\n",
              "    .colab-df-convert {\n",
              "      background-color: #E8F0FE;\n",
              "      border: none;\n",
              "      border-radius: 50%;\n",
              "      cursor: pointer;\n",
              "      display: none;\n",
              "      fill: #1967D2;\n",
              "      height: 32px;\n",
              "      padding: 0 0 0 0;\n",
              "      width: 32px;\n",
              "    }\n",
              "\n",
              "    .colab-df-convert:hover {\n",
              "      background-color: #E2EBFA;\n",
              "      box-shadow: 0px 1px 2px rgba(60, 64, 67, 0.3), 0px 1px 3px 1px rgba(60, 64, 67, 0.15);\n",
              "      fill: #174EA6;\n",
              "    }\n",
              "\n",
              "    [theme=dark] .colab-df-convert {\n",
              "      background-color: #3B4455;\n",
              "      fill: #D2E3FC;\n",
              "    }\n",
              "\n",
              "    [theme=dark] .colab-df-convert:hover {\n",
              "      background-color: #434B5C;\n",
              "      box-shadow: 0px 1px 3px 1px rgba(0, 0, 0, 0.15);\n",
              "      filter: drop-shadow(0px 1px 2px rgba(0, 0, 0, 0.3));\n",
              "      fill: #FFFFFF;\n",
              "    }\n",
              "  </style>\n",
              "\n",
              "      <script>\n",
              "        const buttonEl =\n",
              "          document.querySelector('#df-53b03891-edef-4fae-a3a2-898f99f36fc3 button.colab-df-convert');\n",
              "        buttonEl.style.display =\n",
              "          google.colab.kernel.accessAllowed ? 'block' : 'none';\n",
              "\n",
              "        async function convertToInteractive(key) {\n",
              "          const element = document.querySelector('#df-53b03891-edef-4fae-a3a2-898f99f36fc3');\n",
              "          const dataTable =\n",
              "            await google.colab.kernel.invokeFunction('convertToInteractive',\n",
              "                                                     [key], {});\n",
              "          if (!dataTable) return;\n",
              "\n",
              "          const docLinkHtml = 'Like what you see? Visit the ' +\n",
              "            '<a target=\"_blank\" href=https://colab.research.google.com/notebooks/data_table.ipynb>data table notebook</a>'\n",
              "            + ' to learn more about interactive tables.';\n",
              "          element.innerHTML = '';\n",
              "          dataTable['output_type'] = 'display_data';\n",
              "          await google.colab.output.renderOutput(dataTable, element);\n",
              "          const docLink = document.createElement('div');\n",
              "          docLink.innerHTML = docLinkHtml;\n",
              "          element.appendChild(docLink);\n",
              "        }\n",
              "      </script>\n",
              "    </div>\n",
              "  </div>\n",
              "  "
            ]
          },
          "metadata": {},
          "execution_count": 7
        }
      ],
      "source": [
        "scaler_columns = dataset.columns.tolist()\n",
        "scaler_columns.remove(\"popularity\")\n",
        "\n",
        "scaler = StandardScaler()\n",
        "scaler.fit(dataset[scaler_columns])\n",
        "scaled_columns = scaler.transform(dataset[scaler_columns])\n",
        "dataset[scaler_columns] = scaled_columns\n",
        "\n",
        "dataset.head(3)"
      ]
    },
    {
      "cell_type": "code",
      "execution_count": 32,
      "metadata": {
        "id": "5iMfG3ppc-p8"
      },
      "outputs": [],
      "source": [
        "import numpy as np\n",
        "import matplotlib.pyplot as plt\n",
        "\n",
        "from scipy import stats\n",
        "from sklearn.metrics import mean_squared_error, r2_score, mean_absolute_error\n",
        "from sklearn.model_selection import train_test_split"
      ]
    },
    {
      "cell_type": "markdown",
      "metadata": {
        "id": "rvbeOoU4c-p9"
      },
      "source": [
        "#### Реализуем функции для удобства"
      ]
    },
    {
      "cell_type": "code",
      "execution_count": 33,
      "metadata": {
        "id": "cBPEVOj0c-p9"
      },
      "outputs": [],
      "source": [
        "def evaluate_model(y_test: pd.Series,\n",
        "                   y_pred: np.array) -> tuple[float, float, float, float]:\n",
        "\n",
        "    mse = mean_squared_error(y_test, y_pred)\n",
        "    rmse = np.sqrt(mse)\n",
        "    r2 = r2_score(y_test, y_pred)\n",
        "    mae = mean_absolute_error(y_test, y_pred)\n",
        "    return mse, rmse, r2, mae\n",
        "\n",
        "\n",
        "def create_confidence_interval_df(y_test: pd.Series,\n",
        "                                  y_pred: np.array,\n",
        "                                  alpha: int = 0.05) -> pd.DataFrame:\n",
        "\n",
        "    n = len(y_pred)\n",
        "    degrees_of_freedom = n - 1\n",
        "    standard_error = np.std(y_pred, ddof=1) / np.sqrt(n)\n",
        "    t_value = stats.t.ppf(1 - alpha / 2, degrees_of_freedom)\n",
        "    interval = t_value * standard_error\n",
        "    lower_bound = y_pred - interval\n",
        "    upper_bound = y_pred + interval\n",
        "\n",
        "    result_df = pd.DataFrame({\n",
        "        \"y_test\": y_test,\n",
        "        \"lower_bound\": lower_bound,\n",
        "        \"y_pred\": y_pred,\n",
        "        \"upper_bound\": upper_bound\n",
        "    })\n",
        "\n",
        "    return result_df\n",
        "\n",
        "\n",
        "def plot_result_sample(result_df: pd.DataFrame,\n",
        "                       sample_size: int = 100,\n",
        "                       sample_seed: int = 42) -> None:\n",
        "\n",
        "    result_sample = result_df.sample(sample_size, random_state=sample_seed).reset_index(drop=True)\n",
        "    fig, ax = plt.subplots()\n",
        "\n",
        "    ax.scatter(result_sample.index, result_sample.y_test, label=\"y_test\", c=\"blue\", s=30)\n",
        "    ax.errorbar(result_sample.index, result_sample.y_pred,\n",
        "                yerr=(result_sample[\"upper_bound\"] - result_sample[\"lower_bound\"]) / 2,\n",
        "                color=\"orange\",  ecolor=\"lightgreen\", capsize=6,\n",
        "                label=\"confidence_interval\", fmt=\"o\", elinewidth=3)\n",
        "\n",
        "\n",
        "    ax.legend()\n",
        "    plt.xlabel(\"Index\")\n",
        "    plt.ylabel(\"Popularity\")\n",
        "    plt.show()\n",
        "\n",
        "\n",
        "def calculate_feature_importance(X_train: pd.DataFrame,\n",
        "                                 one_hot_encoded_columns: list,\n",
        "                                 original_dataset: pd.DataFrame,\n",
        "                                 model) -> pd.DataFrame:\n",
        "\n",
        "    feature_importance = pd.DataFrame({\n",
        "        \"feature\": X_train.columns,\n",
        "        \"importance\": np.abs(model.coef_)\n",
        "    })\n",
        "\n",
        "    for column in one_hot_encoded_columns:\n",
        "        unique_encodings = original_dataset[column].unique()\n",
        "        encodings_filter = feature_importance.feature.isin(unique_encodings)\n",
        "        encodings_mean = feature_importance[encodings_filter].importance.mean()\n",
        "\n",
        "        feature_importance = feature_importance[~encodings_filter]\n",
        "        feature_importance = pd.concat([feature_importance, pd.DataFrame({\n",
        "            \"feature\": column,\n",
        "            \"importance\": encodings_mean}, index=[0])])\n",
        "\n",
        "    return feature_importance.reset_index(drop=True).sort_values(by=\"importance\", ascending=False)"
      ]
    },
    {
      "cell_type": "markdown",
      "metadata": {
        "id": "EYLWLDPUc-p9"
      },
      "source": [
        "#### Разделим данные на тренировочную и тестовую выборки"
      ]
    },
    {
      "cell_type": "code",
      "execution_count": 10,
      "metadata": {
        "id": "Z_X2Otllc-p9"
      },
      "outputs": [],
      "source": [
        "X = dataset.drop(columns=[\"popularity\"])\n",
        "y = dataset.popularity\n",
        "\n",
        "X_train, X_test, y_train, y_test = train_test_split(X, y, train_size=0.9, random_state=42)"
      ]
    },
    {
      "cell_type": "markdown",
      "source": [
        "#### Рассмотрим наивную модель\n",
        "\n",
        "Рассчитаем mean от целевой переменной, чтобы установить базовую линию для дальнейших предсказаний."
      ],
      "metadata": {
        "id": "pFTu4yLQsfMa"
      }
    },
    {
      "cell_type": "code",
      "source": [
        "print(f\"Mean value of popularity is {y.mean():.3f}\")"
      ],
      "metadata": {
        "colab": {
          "base_uri": "https://localhost:8080/"
        },
        "id": "vkCHs2cWsqMn",
        "outputId": "0c5d8005-1420-4a6f-d2a7-32b70f7b1814"
      },
      "execution_count": 40,
      "outputs": [
        {
          "output_type": "stream",
          "name": "stdout",
          "text": [
            "Mean value of popularity is 41.128\n"
          ]
        }
      ]
    },
    {
      "cell_type": "markdown",
      "metadata": {
        "id": "r0BDoorJc-p-"
      },
      "source": [
        "### Модель Linear Regression"
      ]
    },
    {
      "cell_type": "code",
      "execution_count": 11,
      "metadata": {
        "id": "eE4HgYxdc-p-"
      },
      "outputs": [],
      "source": [
        "from sklearn.linear_model import LinearRegression"
      ]
    },
    {
      "cell_type": "markdown",
      "metadata": {
        "id": "d_bgytlvc-p-"
      },
      "source": [
        "#### Обучим модель"
      ]
    },
    {
      "cell_type": "code",
      "execution_count": 12,
      "metadata": {
        "id": "JD1Ee5a1c-p-"
      },
      "outputs": [],
      "source": [
        "lr = LinearRegression()\n",
        "lr.fit(X_train, y_train)\n",
        "y_pred_lr = lr.predict(X_test)"
      ]
    },
    {
      "cell_type": "markdown",
      "metadata": {
        "id": "Y7NSHtCSc-p-"
      },
      "source": [
        "#### Оценим точность"
      ]
    },
    {
      "cell_type": "code",
      "execution_count": 34,
      "metadata": {
        "colab": {
          "base_uri": "https://localhost:8080/"
        },
        "id": "UG-5R-dUc-p-",
        "outputId": "4703c70d-4fa1-4c7d-a567-6cec3f073a88"
      },
      "outputs": [
        {
          "output_type": "stream",
          "name": "stdout",
          "text": [
            "MSE: 92.717\n",
            "RMSE: 9.629\n",
            "R2: 0.720\n",
            "MAE: 7.299\n"
          ]
        }
      ],
      "source": [
        "mse_lr, rmse_lr, r2_lr, mae_lr = evaluate_model(y_test, y_pred_lr)\n",
        "\n",
        "print(f\"MSE: {mse_lr:.3f}\\nRMSE: {rmse_lr:.3f}\\nR2: {r2_lr:.3f}\\nMAE: {mae_lr:.3f}\")"
      ]
    },
    {
      "cell_type": "markdown",
      "metadata": {
        "id": "ycLmpMKHc-p-"
      },
      "source": [
        "#### Рассмотрим результаты с учётом доверительного интервала"
      ]
    },
    {
      "cell_type": "code",
      "execution_count": 14,
      "metadata": {
        "colab": {
          "base_uri": "https://localhost:8080/",
          "height": 206
        },
        "id": "6hmBgRlZc-p_",
        "outputId": "72074edf-7893-4e37-8156-dfa404fd82f0"
      },
      "outputs": [
        {
          "output_type": "execute_result",
          "data": {
            "text/plain": [
              "        y_test  lower_bound     y_pred  upper_bound\n",
              "788         45    45.433462  45.631365    45.829267\n",
              "207109      25    34.322134  34.520037    34.717939\n",
              "138644      19    35.500845  35.698748    35.896650\n",
              "37164       29    39.198111  39.396013    39.593916\n",
              "174351      17    20.877066  21.074968    21.272871"
            ],
            "text/html": [
              "\n",
              "  <div id=\"df-1b09ca0d-0e46-4fdc-b385-30a0ae8f8a73\">\n",
              "    <div class=\"colab-df-container\">\n",
              "      <div>\n",
              "<style scoped>\n",
              "    .dataframe tbody tr th:only-of-type {\n",
              "        vertical-align: middle;\n",
              "    }\n",
              "\n",
              "    .dataframe tbody tr th {\n",
              "        vertical-align: top;\n",
              "    }\n",
              "\n",
              "    .dataframe thead th {\n",
              "        text-align: right;\n",
              "    }\n",
              "</style>\n",
              "<table border=\"1\" class=\"dataframe\">\n",
              "  <thead>\n",
              "    <tr style=\"text-align: right;\">\n",
              "      <th></th>\n",
              "      <th>y_test</th>\n",
              "      <th>lower_bound</th>\n",
              "      <th>y_pred</th>\n",
              "      <th>upper_bound</th>\n",
              "    </tr>\n",
              "  </thead>\n",
              "  <tbody>\n",
              "    <tr>\n",
              "      <th>788</th>\n",
              "      <td>45</td>\n",
              "      <td>45.433462</td>\n",
              "      <td>45.631365</td>\n",
              "      <td>45.829267</td>\n",
              "    </tr>\n",
              "    <tr>\n",
              "      <th>207109</th>\n",
              "      <td>25</td>\n",
              "      <td>34.322134</td>\n",
              "      <td>34.520037</td>\n",
              "      <td>34.717939</td>\n",
              "    </tr>\n",
              "    <tr>\n",
              "      <th>138644</th>\n",
              "      <td>19</td>\n",
              "      <td>35.500845</td>\n",
              "      <td>35.698748</td>\n",
              "      <td>35.896650</td>\n",
              "    </tr>\n",
              "    <tr>\n",
              "      <th>37164</th>\n",
              "      <td>29</td>\n",
              "      <td>39.198111</td>\n",
              "      <td>39.396013</td>\n",
              "      <td>39.593916</td>\n",
              "    </tr>\n",
              "    <tr>\n",
              "      <th>174351</th>\n",
              "      <td>17</td>\n",
              "      <td>20.877066</td>\n",
              "      <td>21.074968</td>\n",
              "      <td>21.272871</td>\n",
              "    </tr>\n",
              "  </tbody>\n",
              "</table>\n",
              "</div>\n",
              "      <button class=\"colab-df-convert\" onclick=\"convertToInteractive('df-1b09ca0d-0e46-4fdc-b385-30a0ae8f8a73')\"\n",
              "              title=\"Convert this dataframe to an interactive table.\"\n",
              "              style=\"display:none;\">\n",
              "        \n",
              "  <svg xmlns=\"http://www.w3.org/2000/svg\" height=\"24px\"viewBox=\"0 0 24 24\"\n",
              "       width=\"24px\">\n",
              "    <path d=\"M0 0h24v24H0V0z\" fill=\"none\"/>\n",
              "    <path d=\"M18.56 5.44l.94 2.06.94-2.06 2.06-.94-2.06-.94-.94-2.06-.94 2.06-2.06.94zm-11 1L8.5 8.5l.94-2.06 2.06-.94-2.06-.94L8.5 2.5l-.94 2.06-2.06.94zm10 10l.94 2.06.94-2.06 2.06-.94-2.06-.94-.94-2.06-.94 2.06-2.06.94z\"/><path d=\"M17.41 7.96l-1.37-1.37c-.4-.4-.92-.59-1.43-.59-.52 0-1.04.2-1.43.59L10.3 9.45l-7.72 7.72c-.78.78-.78 2.05 0 2.83L4 21.41c.39.39.9.59 1.41.59.51 0 1.02-.2 1.41-.59l7.78-7.78 2.81-2.81c.8-.78.8-2.07 0-2.86zM5.41 20L4 18.59l7.72-7.72 1.47 1.35L5.41 20z\"/>\n",
              "  </svg>\n",
              "      </button>\n",
              "      \n",
              "  <style>\n",
              "    .colab-df-container {\n",
              "      display:flex;\n",
              "      flex-wrap:wrap;\n",
              "      gap: 12px;\n",
              "    }\n",
              "\n",
              "    .colab-df-convert {\n",
              "      background-color: #E8F0FE;\n",
              "      border: none;\n",
              "      border-radius: 50%;\n",
              "      cursor: pointer;\n",
              "      display: none;\n",
              "      fill: #1967D2;\n",
              "      height: 32px;\n",
              "      padding: 0 0 0 0;\n",
              "      width: 32px;\n",
              "    }\n",
              "\n",
              "    .colab-df-convert:hover {\n",
              "      background-color: #E2EBFA;\n",
              "      box-shadow: 0px 1px 2px rgba(60, 64, 67, 0.3), 0px 1px 3px 1px rgba(60, 64, 67, 0.15);\n",
              "      fill: #174EA6;\n",
              "    }\n",
              "\n",
              "    [theme=dark] .colab-df-convert {\n",
              "      background-color: #3B4455;\n",
              "      fill: #D2E3FC;\n",
              "    }\n",
              "\n",
              "    [theme=dark] .colab-df-convert:hover {\n",
              "      background-color: #434B5C;\n",
              "      box-shadow: 0px 1px 3px 1px rgba(0, 0, 0, 0.15);\n",
              "      filter: drop-shadow(0px 1px 2px rgba(0, 0, 0, 0.3));\n",
              "      fill: #FFFFFF;\n",
              "    }\n",
              "  </style>\n",
              "\n",
              "      <script>\n",
              "        const buttonEl =\n",
              "          document.querySelector('#df-1b09ca0d-0e46-4fdc-b385-30a0ae8f8a73 button.colab-df-convert');\n",
              "        buttonEl.style.display =\n",
              "          google.colab.kernel.accessAllowed ? 'block' : 'none';\n",
              "\n",
              "        async function convertToInteractive(key) {\n",
              "          const element = document.querySelector('#df-1b09ca0d-0e46-4fdc-b385-30a0ae8f8a73');\n",
              "          const dataTable =\n",
              "            await google.colab.kernel.invokeFunction('convertToInteractive',\n",
              "                                                     [key], {});\n",
              "          if (!dataTable) return;\n",
              "\n",
              "          const docLinkHtml = 'Like what you see? Visit the ' +\n",
              "            '<a target=\"_blank\" href=https://colab.research.google.com/notebooks/data_table.ipynb>data table notebook</a>'\n",
              "            + ' to learn more about interactive tables.';\n",
              "          element.innerHTML = '';\n",
              "          dataTable['output_type'] = 'display_data';\n",
              "          await google.colab.output.renderOutput(dataTable, element);\n",
              "          const docLink = document.createElement('div');\n",
              "          docLink.innerHTML = docLinkHtml;\n",
              "          element.appendChild(docLink);\n",
              "        }\n",
              "      </script>\n",
              "    </div>\n",
              "  </div>\n",
              "  "
            ]
          },
          "metadata": {},
          "execution_count": 14
        }
      ],
      "source": [
        "confidence_interval_lr = create_confidence_interval_df(y_test, y_pred_lr)\n",
        "\n",
        "confidence_interval_lr.head(5)"
      ]
    },
    {
      "cell_type": "markdown",
      "metadata": {
        "id": "2uaRhdUac-p_"
      },
      "source": [
        "#### Построим график полученных результатов"
      ]
    },
    {
      "cell_type": "code",
      "execution_count": 15,
      "metadata": {
        "colab": {
          "base_uri": "https://localhost:8080/",
          "height": 279
        },
        "id": "rB-GVhVCc-p_",
        "outputId": "158919a9-b4e6-43c9-e5fe-84e72778a4dd"
      },
      "outputs": [
        {
          "output_type": "display_data",
          "data": {
            "text/plain": [
              "<Figure size 432x288 with 1 Axes>"
            ],
            "image/png": "[encoded data removed]"
          },
          "metadata": {
            "needs_background": "light"
          }
        }
      ],
      "source": [
        "plot_result_sample(confidence_interval_lr, 5)"
      ]
    },
    {
      "cell_type": "markdown",
      "metadata": {
        "id": "BR9R_u24c-p_"
      },
      "source": [
        "#### Оценим важность каждого признака"
      ]
    },
    {
      "cell_type": "code",
      "execution_count": 16,
      "metadata": {
        "colab": {
          "base_uri": "https://localhost:8080/",
          "height": 488
        },
        "id": "jRF7HxXZc-p_",
        "outputId": "46bb44de-a23a-4947-bf16-b9d1a7f88d95"
      },
      "outputs": [
        {
          "output_type": "execute_result",
          "data": {
            "text/plain": [
              "             feature    importance\n",
              "12               key  3.758565e+12\n",
              "11             genre  2.845988e+12\n",
              "13    time_signature  2.211617e+12\n",
              "6           loudness  1.015927e+00\n",
              "8        speechiness  6.699770e-01\n",
              "5           liveness  4.911363e-01\n",
              "1       danceability  3.452714e-01\n",
              "4   instrumentalness  3.257773e-01\n",
              "10           valence  3.080239e-01\n",
              "3             energy  3.050868e-01\n",
              "7               mode  1.538770e-01\n",
              "0       acousticness  9.535005e-02\n",
              "9              tempo  6.580052e-02\n",
              "2        duration_ms  5.655434e-02"
            ],
            "text/html": [
              "\n",
              "  <div id=\"df-9bb59504-3085-45d7-ab8e-8abb26142d67\">\n",
              "    <div class=\"colab-df-container\">\n",
              "      <div>\n",
              "<style scoped>\n",
              "    .dataframe tbody tr th:only-of-type {\n",
              "        vertical-align: middle;\n",
              "    }\n",
              "\n",
              "    .dataframe tbody tr th {\n",
              "        vertical-align: top;\n",
              "    }\n",
              "\n",
              "    .dataframe thead th {\n",
              "        text-align: right;\n",
              "    }\n",
              "</style>\n",
              "<table border=\"1\" class=\"dataframe\">\n",
              "  <thead>\n",
              "    <tr style=\"text-align: right;\">\n",
              "      <th></th>\n",
              "      <th>feature</th>\n",
              "      <th>importance</th>\n",
              "    </tr>\n",
              "  </thead>\n",
              "  <tbody>\n",
              "    <tr>\n",
              "      <th>12</th>\n",
              "      <td>key</td>\n",
              "      <td>3.758565e+12</td>\n",
              "    </tr>\n",
              "    <tr>\n",
              "      <th>11</th>\n",
              "      <td>genre</td>\n",
              "      <td>2.845988e+12</td>\n",
              "    </tr>\n",
              "    <tr>\n",
              "      <th>13</th>\n",
              "      <td>time_signature</td>\n",
              "      <td>2.211617e+12</td>\n",
              "    </tr>\n",
              "    <tr>\n",
              "      <th>6</th>\n",
              "      <td>loudness</td>\n",
              "      <td>1.015927e+00</td>\n",
              "    </tr>\n",
              "    <tr>\n",
              "      <th>8</th>\n",
              "      <td>speechiness</td>\n",
              "      <td>6.699770e-01</td>\n",
              "    </tr>\n",
              "    <tr>\n",
              "      <th>5</th>\n",
              "      <td>liveness</td>\n",
              "      <td>4.911363e-01</td>\n",
              "    </tr>\n",
              "    <tr>\n",
              "      <th>1</th>\n",
              "      <td>danceability</td>\n",
              "      <td>3.452714e-01</td>\n",
              "    </tr>\n",
              "    <tr>\n",
              "      <th>4</th>\n",
              "      <td>instrumentalness</td>\n",
              "      <td>3.257773e-01</td>\n",
              "    </tr>\n",
              "    <tr>\n",
              "      <th>10</th>\n",
              "      <td>valence</td>\n",
              "      <td>3.080239e-01</td>\n",
              "    </tr>\n",
              "    <tr>\n",
              "      <th>3</th>\n",
              "      <td>energy</td>\n",
              "      <td>3.050868e-01</td>\n",
              "    </tr>\n",
              "    <tr>\n",
              "      <th>7</th>\n",
              "      <td>mode</td>\n",
              "      <td>1.538770e-01</td>\n",
              "    </tr>\n",
              "    <tr>\n",
              "      <th>0</th>\n",
              "      <td>acousticness</td>\n",
              "      <td>9.535005e-02</td>\n",
              "    </tr>\n",
              "    <tr>\n",
              "      <th>9</th>\n",
              "      <td>tempo</td>\n",
              "      <td>6.580052e-02</td>\n",
              "    </tr>\n",
              "    <tr>\n",
              "      <th>2</th>\n",
              "      <td>duration_ms</td>\n",
              "      <td>5.655434e-02</td>\n",
              "    </tr>\n",
              "  </tbody>\n",
              "</table>\n",
              "</div>\n",
              "      <button class=\"colab-df-convert\" onclick=\"convertToInteractive('df-9bb59504-3085-45d7-ab8e-8abb26142d67')\"\n",
              "              title=\"Convert this dataframe to an interactive table.\"\n",
              "              style=\"display:none;\">\n",
              "        \n",
              "  <svg xmlns=\"http://www.w3.org/2000/svg\" height=\"24px\"viewBox=\"0 0 24 24\"\n",
              "       width=\"24px\">\n",
              "    <path d=\"M0 0h24v24H0V0z\" fill=\"none\"/>\n",
              "    <path d=\"M18.56 5.44l.94 2.06.94-2.06 2.06-.94-2.06-.94-.94-2.06-.94 2.06-2.06.94zm-11 1L8.5 8.5l.94-2.06 2.06-.94-2.06-.94L8.5 2.5l-.94 2.06-2.06.94zm10 10l.94 2.06.94-2.06 2.06-.94-2.06-.94-.94-2.06-.94 2.06-2.06.94z\"/><path d=\"M17.41 7.96l-1.37-1.37c-.4-.4-.92-.59-1.43-.59-.52 0-1.04.2-1.43.59L10.3 9.45l-7.72 7.72c-.78.78-.78 2.05 0 2.83L4 21.41c.39.39.9.59 1.41.59.51 0 1.02-.2 1.41-.59l7.78-7.78 2.81-2.81c.8-.78.8-2.07 0-2.86zM5.41 20L4 18.59l7.72-7.72 1.47 1.35L5.41 20z\"/>\n",
              "  </svg>\n",
              "      </button>\n",
              "      \n",
              "  <style>\n",
              "    .colab-df-container {\n",
              "      display:flex;\n",
              "      flex-wrap:wrap;\n",
              "      gap: 12px;\n",
              "    }\n",
              "\n",
              "    .colab-df-convert {\n",
              "      background-color: #E8F0FE;\n",
              "      border: none;\n",
              "      border-radius: 50%;\n",
              "      cursor: pointer;\n",
              "      display: none;\n",
              "      fill: #1967D2;\n",
              "      height: 32px;\n",
              "      padding: 0 0 0 0;\n",
              "      width: 32px;\n",
              "    }\n",
              "\n",
              "    .colab-df-convert:hover {\n",
              "      background-color: #E2EBFA;\n",
              "      box-shadow: 0px 1px 2px rgba(60, 64, 67, 0.3), 0px 1px 3px 1px rgba(60, 64, 67, 0.15);\n",
              "      fill: #174EA6;\n",
              "    }\n",
              "\n",
              "    [theme=dark] .colab-df-convert {\n",
              "      background-color: #3B4455;\n",
              "      fill: #D2E3FC;\n",
              "    }\n",
              "\n",
              "    [theme=dark] .colab-df-convert:hover {\n",
              "      background-color: #434B5C;\n",
              "      box-shadow: 0px 1px 3px 1px rgba(0, 0, 0, 0.15);\n",
              "      filter: drop-shadow(0px 1px 2px rgba(0, 0, 0, 0.3));\n",
              "      fill: #FFFFFF;\n",
              "    }\n",
              "  </style>\n",
              "\n",
              "      <script>\n",
              "        const buttonEl =\n",
              "          document.querySelector('#df-9bb59504-3085-45d7-ab8e-8abb26142d67 button.colab-df-convert');\n",
              "        buttonEl.style.display =\n",
              "          google.colab.kernel.accessAllowed ? 'block' : 'none';\n",
              "\n",
              "        async function convertToInteractive(key) {\n",
              "          const element = document.querySelector('#df-9bb59504-3085-45d7-ab8e-8abb26142d67');\n",
              "          const dataTable =\n",
              "            await google.colab.kernel.invokeFunction('convertToInteractive',\n",
              "                                                     [key], {});\n",
              "          if (!dataTable) return;\n",
              "\n",
              "          const docLinkHtml = 'Like what you see? Visit the ' +\n",
              "            '<a target=\"_blank\" href=https://colab.research.google.com/notebooks/data_table.ipynb>data table notebook</a>'\n",
              "            + ' to learn more about interactive tables.';\n",
              "          element.innerHTML = '';\n",
              "          dataTable['output_type'] = 'display_data';\n",
              "          await google.colab.output.renderOutput(dataTable, element);\n",
              "          const docLink = document.createElement('div');\n",
              "          docLink.innerHTML = docLinkHtml;\n",
              "          element.appendChild(docLink);\n",
              "        }\n",
              "      </script>\n",
              "    </div>\n",
              "  </div>\n",
              "  "
            ]
          },
          "metadata": {},
          "execution_count": 16
        }
      ],
      "source": [
        "calculate_feature_importance(X_train, one_hot_encoding_columns, original_dataset, lr)"
      ]
    },
    {
      "cell_type": "markdown",
      "metadata": {
        "id": "32wtYxlEc-p_"
      },
      "source": [
        "#### Вывод по эксперименту\n",
        "В итоге из самой простой модели без подбора гиперпараметров, мы получили довольно неплохую точность: R^2 = 0.72, MAE = 7.3. \n",
        "Но стоит обратить внимание на огромные коэффициенты перед признаками,\n",
        "на которые был применён One Hot Encoding, что является следствием мультиколлинеарности. Попробуем исправить последнее\n",
        "при помощи моделей линейной регрессии с встроенной регуляризацией - к примеру, Ridge.\n"
      ]
    },
    {
      "cell_type": "markdown",
      "metadata": {
        "id": "FoLszP0Tc-p_"
      },
      "source": [
        "### Модель RidgeCV"
      ]
    },
    {
      "cell_type": "code",
      "execution_count": 17,
      "metadata": {
        "id": "70KnriQRc-p_"
      },
      "outputs": [],
      "source": [
        "from sklearn.linear_model import RidgeCV"
      ]
    },
    {
      "cell_type": "markdown",
      "metadata": {
        "id": "tpyT4iG9c-qA"
      },
      "source": [
        "#### Обучим модель"
      ]
    },
    {
      "cell_type": "code",
      "execution_count": 18,
      "metadata": {
        "colab": {
          "base_uri": "https://localhost:8080/"
        },
        "id": "Oh7MFJYkc-qA",
        "outputId": "b7307626-e28c-4918-e8c7-c8b3c4525744"
      },
      "outputs": [
        {
          "output_type": "stream",
          "name": "stdout",
          "text": [
            "Best alpha value: 10.0\n"
          ]
        }
      ],
      "source": [
        "rr = RidgeCV()\n",
        "rr.fit(X_train, y_train)\n",
        "y_pred_rr = rr.predict(X_test)\n",
        "\n",
        "print(\"Best alpha value:\", rr.alpha_)"
      ]
    },
    {
      "cell_type": "markdown",
      "metadata": {
        "id": "ERA42wyTc-qA"
      },
      "source": [
        "#### Оценим точность"
      ]
    },
    {
      "cell_type": "code",
      "execution_count": 36,
      "metadata": {
        "colab": {
          "base_uri": "https://localhost:8080/"
        },
        "id": "_Dh4FVv4c-qA",
        "outputId": "1a45558a-2b66-4901-d6c5-b8804eb6c992"
      },
      "outputs": [
        {
          "output_type": "stream",
          "name": "stdout",
          "text": [
            "MSE: 92.717\n",
            "RMSE: 9.629\n",
            "R2: 0.720\n",
            "MAE: 7.299\n"
          ]
        }
      ],
      "source": [
        "mse_rr, rmse_rr, r2_rr, mae_rr = evaluate_model(y_test, y_pred_rr)\n",
        "\n",
        "print(f\"MSE: {mse_rr:.3f}\\nRMSE: {rmse_rr:.3f}\\nR2: {r2_rr:.3f}\\nMAE: {mae_rr:.3f}\")"
      ]
    },
    {
      "cell_type": "markdown",
      "metadata": {
        "id": "h41-6gD7c-qA"
      },
      "source": [
        "#### Рассмотрим результаты с учётом доверительного интервала"
      ]
    },
    {
      "cell_type": "code",
      "execution_count": 20,
      "metadata": {
        "colab": {
          "base_uri": "https://localhost:8080/",
          "height": 206
        },
        "id": "Gi4pLKm6c-qA",
        "outputId": "a3090d60-5415-497b-ed54-00c15bed8b68"
      },
      "outputs": [
        {
          "output_type": "execute_result",
          "data": {
            "text/plain": [
              "        y_test  lower_bound     y_pred  upper_bound\n",
              "788         45    45.430925  45.628785    45.826645\n",
              "207109      25    34.338876  34.536735    34.734595\n",
              "138644      19    35.505054  35.702914    35.900773\n",
              "37164       29    39.193076  39.390936    39.588796\n",
              "174351      17    20.863611  21.061470    21.259330"
            ],
            "text/html": [
              "\n",
              "  <div id=\"df-7920290b-b645-4aa3-a64e-67ccab43352c\">\n",
              "    <div class=\"colab-df-container\">\n",
              "      <div>\n",
              "<style scoped>\n",
              "    .dataframe tbody tr th:only-of-type {\n",
              "        vertical-align: middle;\n",
              "    }\n",
              "\n",
              "    .dataframe tbody tr th {\n",
              "        vertical-align: top;\n",
              "    }\n",
              "\n",
              "    .dataframe thead th {\n",
              "        text-align: right;\n",
              "    }\n",
              "</style>\n",
              "<table border=\"1\" class=\"dataframe\">\n",
              "  <thead>\n",
              "    <tr style=\"text-align: right;\">\n",
              "      <th></th>\n",
              "      <th>y_test</th>\n",
              "      <th>lower_bound</th>\n",
              "      <th>y_pred</th>\n",
              "      <th>upper_bound</th>\n",
              "    </tr>\n",
              "  </thead>\n",
              "  <tbody>\n",
              "    <tr>\n",
              "      <th>788</th>\n",
              "      <td>45</td>\n",
              "      <td>45.430925</td>\n",
              "      <td>45.628785</td>\n",
              "      <td>45.826645</td>\n",
              "    </tr>\n",
              "    <tr>\n",
              "      <th>207109</th>\n",
              "      <td>25</td>\n",
              "      <td>34.338876</td>\n",
              "      <td>34.536735</td>\n",
              "      <td>34.734595</td>\n",
              "    </tr>\n",
              "    <tr>\n",
              "      <th>138644</th>\n",
              "      <td>19</td>\n",
              "      <td>35.505054</td>\n",
              "      <td>35.702914</td>\n",
              "      <td>35.900773</td>\n",
              "    </tr>\n",
              "    <tr>\n",
              "      <th>37164</th>\n",
              "      <td>29</td>\n",
              "      <td>39.193076</td>\n",
              "      <td>39.390936</td>\n",
              "      <td>39.588796</td>\n",
              "    </tr>\n",
              "    <tr>\n",
              "      <th>174351</th>\n",
              "      <td>17</td>\n",
              "      <td>20.863611</td>\n",
              "      <td>21.061470</td>\n",
              "      <td>21.259330</td>\n",
              "    </tr>\n",
              "  </tbody>\n",
              "</table>\n",
              "</div>\n",
              "      <button class=\"colab-df-convert\" onclick=\"convertToInteractive('df-7920290b-b645-4aa3-a64e-67ccab43352c')\"\n",
              "              title=\"Convert this dataframe to an interactive table.\"\n",
              "              style=\"display:none;\">\n",
              "        \n",
              "  <svg xmlns=\"http://www.w3.org/2000/svg\" height=\"24px\"viewBox=\"0 0 24 24\"\n",
              "       width=\"24px\">\n",
              "    <path d=\"M0 0h24v24H0V0z\" fill=\"none\"/>\n",
              "    <path d=\"M18.56 5.44l.94 2.06.94-2.06 2.06-.94-2.06-.94-.94-2.06-.94 2.06-2.06.94zm-11 1L8.5 8.5l.94-2.06 2.06-.94-2.06-.94L8.5 2.5l-.94 2.06-2.06.94zm10 10l.94 2.06.94-2.06 2.06-.94-2.06-.94-.94-2.06-.94 2.06-2.06.94z\"/><path d=\"M17.41 7.96l-1.37-1.37c-.4-.4-.92-.59-1.43-.59-.52 0-1.04.2-1.43.59L10.3 9.45l-7.72 7.72c-.78.78-.78 2.05 0 2.83L4 21.41c.39.39.9.59 1.41.59.51 0 1.02-.2 1.41-.59l7.78-7.78 2.81-2.81c.8-.78.8-2.07 0-2.86zM5.41 20L4 18.59l7.72-7.72 1.47 1.35L5.41 20z\"/>\n",
              "  </svg>\n",
              "      </button>\n",
              "      \n",
              "  <style>\n",
              "    .colab-df-container {\n",
              "      display:flex;\n",
              "      flex-wrap:wrap;\n",
              "      gap: 12px;\n",
              "    }\n",
              "\n",
              "    .colab-df-convert {\n",
              "      background-color: #E8F0FE;\n",
              "      border: none;\n",
              "      border-radius: 50%;\n",
              "      cursor: pointer;\n",
              "      display: none;\n",
              "      fill: #1967D2;\n",
              "      height: 32px;\n",
              "      padding: 0 0 0 0;\n",
              "      width: 32px;\n",
              "    }\n",
              "\n",
              "    .colab-df-convert:hover {\n",
              "      background-color: #E2EBFA;\n",
              "      box-shadow: 0px 1px 2px rgba(60, 64, 67, 0.3), 0px 1px 3px 1px rgba(60, 64, 67, 0.15);\n",
              "      fill: #174EA6;\n",
              "    }\n",
              "\n",
              "    [theme=dark] .colab-df-convert {\n",
              "      background-color: #3B4455;\n",
              "      fill: #D2E3FC;\n",
              "    }\n",
              "\n",
              "    [theme=dark] .colab-df-convert:hover {\n",
              "      background-color: #434B5C;\n",
              "      box-shadow: 0px 1px 3px 1px rgba(0, 0, 0, 0.15);\n",
              "      filter: drop-shadow(0px 1px 2px rgba(0, 0, 0, 0.3));\n",
              "      fill: #FFFFFF;\n",
              "    }\n",
              "  </style>\n",
              "\n",
              "      <script>\n",
              "        const buttonEl =\n",
              "          document.querySelector('#df-7920290b-b645-4aa3-a64e-67ccab43352c button.colab-df-convert');\n",
              "        buttonEl.style.display =\n",
              "          google.colab.kernel.accessAllowed ? 'block' : 'none';\n",
              "\n",
              "        async function convertToInteractive(key) {\n",
              "          const element = document.querySelector('#df-7920290b-b645-4aa3-a64e-67ccab43352c');\n",
              "          const dataTable =\n",
              "            await google.colab.kernel.invokeFunction('convertToInteractive',\n",
              "                                                     [key], {});\n",
              "          if (!dataTable) return;\n",
              "\n",
              "          const docLinkHtml = 'Like what you see? Visit the ' +\n",
              "            '<a target=\"_blank\" href=https://colab.research.google.com/notebooks/data_table.ipynb>data table notebook</a>'\n",
              "            + ' to learn more about interactive tables.';\n",
              "          element.innerHTML = '';\n",
              "          dataTable['output_type'] = 'display_data';\n",
              "          await google.colab.output.renderOutput(dataTable, element);\n",
              "          const docLink = document.createElement('div');\n",
              "          docLink.innerHTML = docLinkHtml;\n",
              "          element.appendChild(docLink);\n",
              "        }\n",
              "      </script>\n",
              "    </div>\n",
              "  </div>\n",
              "  "
            ]
          },
          "metadata": {},
          "execution_count": 20
        }
      ],
      "source": [
        "confidence_interval_rr = create_confidence_interval_df(y_test, y_pred_rr)\n",
        "\n",
        "confidence_interval_rr.head(5)"
      ]
    },
    {
      "cell_type": "markdown",
      "metadata": {
        "id": "zBOl4p1lc-qA"
      },
      "source": [
        "#### Построим график полученных результатов"
      ]
    },
    {
      "cell_type": "code",
      "execution_count": 21,
      "metadata": {
        "colab": {
          "base_uri": "https://localhost:8080/",
          "height": 279
        },
        "id": "FEkDKQuwc-qB",
        "outputId": "24bf1e85-317f-4323-f42b-c5aa4323cb0c"
      },
      "outputs": [
        {
          "output_type": "display_data",
          "data": {
            "text/plain": [
              "<Figure size 432x288 with 1 Axes>"
            ],
            "image/png": "[encoded data removed]"
          },
          "metadata": {
            "needs_background": "light"
          }
        }
      ],
      "source": [
        "plot_result_sample(confidence_interval_rr, 5)"
      ]
    },
    {
      "cell_type": "markdown",
      "metadata": {
        "id": "abyBFN79c-qB"
      },
      "source": [
        "#### Оценим важность каждого признака"
      ]
    },
    {
      "cell_type": "code",
      "execution_count": 22,
      "metadata": {
        "colab": {
          "base_uri": "https://localhost:8080/",
          "height": 488
        },
        "id": "F4Hqw308c-qB",
        "outputId": "5a7fd97b-abc4-4b68-8639-4284f8b90af5"
      },
      "outputs": [
        {
          "output_type": "execute_result",
          "data": {
            "text/plain": [
              "             feature  importance\n",
              "11             genre    2.354536\n",
              "6           loudness    1.014269\n",
              "8        speechiness    0.672711\n",
              "5           liveness    0.490938\n",
              "1       danceability    0.343962\n",
              "4   instrumentalness    0.328888\n",
              "10           valence    0.309909\n",
              "3             energy    0.306525\n",
              "7               mode    0.153641\n",
              "0       acousticness    0.094706\n",
              "9              tempo    0.067480\n",
              "2        duration_ms    0.054771\n",
              "13    time_signature    0.044694\n",
              "12               key    0.027242"
            ],
            "text/html": [
              "\n",
              "  <div id=\"df-aa380500-6254-4940-9d7d-b0ad90535f8e\">\n",
              "    <div class=\"colab-df-container\">\n",
              "      <div>\n",
              "<style scoped>\n",
              "    .dataframe tbody tr th:only-of-type {\n",
              "        vertical-align: middle;\n",
              "    }\n",
              "\n",
              "    .dataframe tbody tr th {\n",
              "        vertical-align: top;\n",
              "    }\n",
              "\n",
              "    .dataframe thead th {\n",
              "        text-align: right;\n",
              "    }\n",
              "</style>\n",
              "<table border=\"1\" class=\"dataframe\">\n",
              "  <thead>\n",
              "    <tr style=\"text-align: right;\">\n",
              "      <th></th>\n",
              "      <th>feature</th>\n",
              "      <th>importance</th>\n",
              "    </tr>\n",
              "  </thead>\n",
              "  <tbody>\n",
              "    <tr>\n",
              "      <th>11</th>\n",
              "      <td>genre</td>\n",
              "      <td>2.354536</td>\n",
              "    </tr>\n",
              "    <tr>\n",
              "      <th>6</th>\n",
              "      <td>loudness</td>\n",
              "      <td>1.014269</td>\n",
              "    </tr>\n",
              "    <tr>\n",
              "      <th>8</th>\n",
              "      <td>speechiness</td>\n",
              "      <td>0.672711</td>\n",
              "    </tr>\n",
              "    <tr>\n",
              "      <th>5</th>\n",
              "      <td>liveness</td>\n",
              "      <td>0.490938</td>\n",
              "    </tr>\n",
              "    <tr>\n",
              "      <th>1</th>\n",
              "      <td>danceability</td>\n",
              "      <td>0.343962</td>\n",
              "    </tr>\n",
              "    <tr>\n",
              "      <th>4</th>\n",
              "      <td>instrumentalness</td>\n",
              "      <td>0.328888</td>\n",
              "    </tr>\n",
              "    <tr>\n",
              "      <th>10</th>\n",
              "      <td>valence</td>\n",
              "      <td>0.309909</td>\n",
              "    </tr>\n",
              "    <tr>\n",
              "      <th>3</th>\n",
              "      <td>energy</td>\n",
              "      <td>0.306525</td>\n",
              "    </tr>\n",
              "    <tr>\n",
              "      <th>7</th>\n",
              "      <td>mode</td>\n",
              "      <td>0.153641</td>\n",
              "    </tr>\n",
              "    <tr>\n",
              "      <th>0</th>\n",
              "      <td>acousticness</td>\n",
              "      <td>0.094706</td>\n",
              "    </tr>\n",
              "    <tr>\n",
              "      <th>9</th>\n",
              "      <td>tempo</td>\n",
              "      <td>0.067480</td>\n",
              "    </tr>\n",
              "    <tr>\n",
              "      <th>2</th>\n",
              "      <td>duration_ms</td>\n",
              "      <td>0.054771</td>\n",
              "    </tr>\n",
              "    <tr>\n",
              "      <th>13</th>\n",
              "      <td>time_signature</td>\n",
              "      <td>0.044694</td>\n",
              "    </tr>\n",
              "    <tr>\n",
              "      <th>12</th>\n",
              "      <td>key</td>\n",
              "      <td>0.027242</td>\n",
              "    </tr>\n",
              "  </tbody>\n",
              "</table>\n",
              "</div>\n",
              "      <button class=\"colab-df-convert\" onclick=\"convertToInteractive('df-aa380500-6254-4940-9d7d-b0ad90535f8e')\"\n",
              "              title=\"Convert this dataframe to an interactive table.\"\n",
              "              style=\"display:none;\">\n",
              "        \n",
              "  <svg xmlns=\"http://www.w3.org/2000/svg\" height=\"24px\"viewBox=\"0 0 24 24\"\n",
              "       width=\"24px\">\n",
              "    <path d=\"M0 0h24v24H0V0z\" fill=\"none\"/>\n",
              "    <path d=\"M18.56 5.44l.94 2.06.94-2.06 2.06-.94-2.06-.94-.94-2.06-.94 2.06-2.06.94zm-11 1L8.5 8.5l.94-2.06 2.06-.94-2.06-.94L8.5 2.5l-.94 2.06-2.06.94zm10 10l.94 2.06.94-2.06 2.06-.94-2.06-.94-.94-2.06-.94 2.06-2.06.94z\"/><path d=\"M17.41 7.96l-1.37-1.37c-.4-.4-.92-.59-1.43-.59-.52 0-1.04.2-1.43.59L10.3 9.45l-7.72 7.72c-.78.78-.78 2.05 0 2.83L4 21.41c.39.39.9.59 1.41.59.51 0 1.02-.2 1.41-.59l7.78-7.78 2.81-2.81c.8-.78.8-2.07 0-2.86zM5.41 20L4 18.59l7.72-7.72 1.47 1.35L5.41 20z\"/>\n",
              "  </svg>\n",
              "      </button>\n",
              "      \n",
              "  <style>\n",
              "    .colab-df-container {\n",
              "      display:flex;\n",
              "      flex-wrap:wrap;\n",
              "      gap: 12px;\n",
              "    }\n",
              "\n",
              "    .colab-df-convert {\n",
              "      background-color: #E8F0FE;\n",
              "      border: none;\n",
              "      border-radius: 50%;\n",
              "      cursor: pointer;\n",
              "      display: none;\n",
              "      fill: #1967D2;\n",
              "      height: 32px;\n",
              "      padding: 0 0 0 0;\n",
              "      width: 32px;\n",
              "    }\n",
              "\n",
              "    .colab-df-convert:hover {\n",
              "      background-color: #E2EBFA;\n",
              "      box-shadow: 0px 1px 2px rgba(60, 64, 67, 0.3), 0px 1px 3px 1px rgba(60, 64, 67, 0.15);\n",
              "      fill: #174EA6;\n",
              "    }\n",
              "\n",
              "    [theme=dark] .colab-df-convert {\n",
              "      background-color: #3B4455;\n",
              "      fill: #D2E3FC;\n",
              "    }\n",
              "\n",
              "    [theme=dark] .colab-df-convert:hover {\n",
              "      background-color: #434B5C;\n",
              "      box-shadow: 0px 1px 3px 1px rgba(0, 0, 0, 0.15);\n",
              "      filter: drop-shadow(0px 1px 2px rgba(0, 0, 0, 0.3));\n",
              "      fill: #FFFFFF;\n",
              "    }\n",
              "  </style>\n",
              "\n",
              "      <script>\n",
              "        const buttonEl =\n",
              "          document.querySelector('#df-aa380500-6254-4940-9d7d-b0ad90535f8e button.colab-df-convert');\n",
              "        buttonEl.style.display =\n",
              "          google.colab.kernel.accessAllowed ? 'block' : 'none';\n",
              "\n",
              "        async function convertToInteractive(key) {\n",
              "          const element = document.querySelector('#df-aa380500-6254-4940-9d7d-b0ad90535f8e');\n",
              "          const dataTable =\n",
              "            await google.colab.kernel.invokeFunction('convertToInteractive',\n",
              "                                                     [key], {});\n",
              "          if (!dataTable) return;\n",
              "\n",
              "          const docLinkHtml = 'Like what you see? Visit the ' +\n",
              "            '<a target=\"_blank\" href=https://colab.research.google.com/notebooks/data_table.ipynb>data table notebook</a>'\n",
              "            + ' to learn more about interactive tables.';\n",
              "          element.innerHTML = '';\n",
              "          dataTable['output_type'] = 'display_data';\n",
              "          await google.colab.output.renderOutput(dataTable, element);\n",
              "          const docLink = document.createElement('div');\n",
              "          docLink.innerHTML = docLinkHtml;\n",
              "          element.appendChild(docLink);\n",
              "        }\n",
              "      </script>\n",
              "    </div>\n",
              "  </div>\n",
              "  "
            ]
          },
          "metadata": {},
          "execution_count": 22
        }
      ],
      "source": [
        "calculate_feature_importance(X_train, one_hot_encoding_columns, original_dataset, rr)"
      ]
    },
    {
      "cell_type": "markdown",
      "metadata": {
        "id": "0_Fhpfi9c-qB"
      },
      "source": [
        "#### Вывод по эксперименту\n",
        "Можно заметить, что коэффициенты пришли в норму, но, к сожалению, на точности предсказаний это не сказалось. Давайте попробуем использовать более комплексные модели, которые рассматривают нелинейную зависимость."
      ]
    },
    {
      "cell_type": "markdown",
      "source": [
        "### Модель Polynomial Regression"
      ],
      "metadata": {
        "collapsed": false,
        "id": "5muDQpj6c-qB"
      }
    },
    {
      "cell_type": "code",
      "execution_count": 23,
      "outputs": [],
      "source": [
        "from sklearn.linear_model import Ridge\n",
        "from sklearn.preprocessing import PolynomialFeatures\n",
        "from sklearn.pipeline import Pipeline"
      ],
      "metadata": {
        "id": "7gmX0lNic-qB"
      }
    },
    {
      "cell_type": "markdown",
      "source": [
        "#### Обучим модель"
      ],
      "metadata": {
        "id": "6-LF2lW-hPAG"
      }
    },
    {
      "cell_type": "code",
      "execution_count": 24,
      "outputs": [],
      "source": [
        "pipeline = Pipeline([\n",
        "    (\"pf\", PolynomialFeatures(2)),\n",
        "    (\"regressor\", Ridge(alpha=10))\n",
        "])\n",
        "\n",
        "pipeline.fit(X_train, y_train)\n",
        "y_pred_pf = pipeline.predict(X_test)"
      ],
      "metadata": {
        "id": "iFTyW1JNc-qB"
      }
    },
    {
      "cell_type": "markdown",
      "source": [
        "#### Оценим точность"
      ],
      "metadata": {
        "id": "unpdTw8thRgW"
      }
    },
    {
      "cell_type": "code",
      "source": [
        "mse_pf, rmse_pf, r2_pf, mae_pf = evaluate_model(y_test, y_pred_pf)\n",
        "\n",
        "print(f\"MSE: {mse_pf:.3f}\\nRMSE: {rmse_pf:.3f}\\nR2: {r2_pf:.3f}\\nMAE: {mae_pf:.3f}\")"
      ],
      "metadata": {
        "colab": {
          "base_uri": "https://localhost:8080/"
        },
        "id": "R25zwAM9dp_W",
        "outputId": "c1cf8ca8-91ab-4e5b-806f-83041f2fc08d"
      },
      "execution_count": 37,
      "outputs": [
        {
          "output_type": "stream",
          "name": "stdout",
          "text": [
            "MSE: 89.369\n",
            "RMSE: 9.454\n",
            "R2: 0.730\n",
            "MAE: 7.188\n"
          ]
        }
      ]
    },
    {
      "cell_type": "markdown",
      "source": [
        "#### Рассмотрим результаты с учётом доверительного интервала"
      ],
      "metadata": {
        "id": "uvyrTUD3h817"
      }
    },
    {
      "cell_type": "code",
      "source": [
        "confidence_interval_pf = create_confidence_interval_df(y_test, y_pred_pf)\n",
        "\n",
        "confidence_interval_pf.head(5)"
      ],
      "metadata": {
        "colab": {
          "base_uri": "https://localhost:8080/",
          "height": 206
        },
        "id": "VZzhNf77dzjP",
        "outputId": "9385c6fd-619a-46f9-e58e-f5850db5702c"
      },
      "execution_count": 26,
      "outputs": [
        {
          "output_type": "execute_result",
          "data": {
            "text/plain": [
              "        y_test  lower_bound     y_pred  upper_bound\n",
              "788         45    45.557215  45.756874    45.956534\n",
              "207109      25    32.043717  32.243376    32.443035\n",
              "138644      19    36.109074  36.308733    36.508392\n",
              "37164       29    38.619743  38.819402    39.019062\n",
              "174351      17    23.182957  23.382616    23.582276"
            ],
            "text/html": [
              "\n",
              "  <div id=\"df-68c521eb-238e-4026-9ca8-0a15d1186243\">\n",
              "    <div class=\"colab-df-container\">\n",
              "      <div>\n",
              "<style scoped>\n",
              "    .dataframe tbody tr th:only-of-type {\n",
              "        vertical-align: middle;\n",
              "    }\n",
              "\n",
              "    .dataframe tbody tr th {\n",
              "        vertical-align: top;\n",
              "    }\n",
              "\n",
              "    .dataframe thead th {\n",
              "        text-align: right;\n",
              "    }\n",
              "</style>\n",
              "<table border=\"1\" class=\"dataframe\">\n",
              "  <thead>\n",
              "    <tr style=\"text-align: right;\">\n",
              "      <th></th>\n",
              "      <th>y_test</th>\n",
              "      <th>lower_bound</th>\n",
              "      <th>y_pred</th>\n",
              "      <th>upper_bound</th>\n",
              "    </tr>\n",
              "  </thead>\n",
              "  <tbody>\n",
              "    <tr>\n",
              "      <th>788</th>\n",
              "      <td>45</td>\n",
              "      <td>45.557215</td>\n",
              "      <td>45.756874</td>\n",
              "      <td>45.956534</td>\n",
              "    </tr>\n",
              "    <tr>\n",
              "      <th>207109</th>\n",
              "      <td>25</td>\n",
              "      <td>32.043717</td>\n",
              "      <td>32.243376</td>\n",
              "      <td>32.443035</td>\n",
              "    </tr>\n",
              "    <tr>\n",
              "      <th>138644</th>\n",
              "      <td>19</td>\n",
              "      <td>36.109074</td>\n",
              "      <td>36.308733</td>\n",
              "      <td>36.508392</td>\n",
              "    </tr>\n",
              "    <tr>\n",
              "      <th>37164</th>\n",
              "      <td>29</td>\n",
              "      <td>38.619743</td>\n",
              "      <td>38.819402</td>\n",
              "      <td>39.019062</td>\n",
              "    </tr>\n",
              "    <tr>\n",
              "      <th>174351</th>\n",
              "      <td>17</td>\n",
              "      <td>23.182957</td>\n",
              "      <td>23.382616</td>\n",
              "      <td>23.582276</td>\n",
              "    </tr>\n",
              "  </tbody>\n",
              "</table>\n",
              "</div>\n",
              "      <button class=\"colab-df-convert\" onclick=\"convertToInteractive('df-68c521eb-238e-4026-9ca8-0a15d1186243')\"\n",
              "              title=\"Convert this dataframe to an interactive table.\"\n",
              "              style=\"display:none;\">\n",
              "        \n",
              "  <svg xmlns=\"http://www.w3.org/2000/svg\" height=\"24px\"viewBox=\"0 0 24 24\"\n",
              "       width=\"24px\">\n",
              "    <path d=\"M0 0h24v24H0V0z\" fill=\"none\"/>\n",
              "    <path d=\"M18.56 5.44l.94 2.06.94-2.06 2.06-.94-2.06-.94-.94-2.06-.94 2.06-2.06.94zm-11 1L8.5 8.5l.94-2.06 2.06-.94-2.06-.94L8.5 2.5l-.94 2.06-2.06.94zm10 10l.94 2.06.94-2.06 2.06-.94-2.06-.94-.94-2.06-.94 2.06-2.06.94z\"/><path d=\"M17.41 7.96l-1.37-1.37c-.4-.4-.92-.59-1.43-.59-.52 0-1.04.2-1.43.59L10.3 9.45l-7.72 7.72c-.78.78-.78 2.05 0 2.83L4 21.41c.39.39.9.59 1.41.59.51 0 1.02-.2 1.41-.59l7.78-7.78 2.81-2.81c.8-.78.8-2.07 0-2.86zM5.41 20L4 18.59l7.72-7.72 1.47 1.35L5.41 20z\"/>\n",
              "  </svg>\n",
              "      </button>\n",
              "      \n",
              "  <style>\n",
              "    .colab-df-container {\n",
              "      display:flex;\n",
              "      flex-wrap:wrap;\n",
              "      gap: 12px;\n",
              "    }\n",
              "\n",
              "    .colab-df-convert {\n",
              "      background-color: #E8F0FE;\n",
              "      border: none;\n",
              "      border-radius: 50%;\n",
              "      cursor: pointer;\n",
              "      display: none;\n",
              "      fill: #1967D2;\n",
              "      height: 32px;\n",
              "      padding: 0 0 0 0;\n",
              "      width: 32px;\n",
              "    }\n",
              "\n",
              "    .colab-df-convert:hover {\n",
              "      background-color: #E2EBFA;\n",
              "      box-shadow: 0px 1px 2px rgba(60, 64, 67, 0.3), 0px 1px 3px 1px rgba(60, 64, 67, 0.15);\n",
              "      fill: #174EA6;\n",
              "    }\n",
              "\n",
              "    [theme=dark] .colab-df-convert {\n",
              "      background-color: #3B4455;\n",
              "      fill: #D2E3FC;\n",
              "    }\n",
              "\n",
              "    [theme=dark] .colab-df-convert:hover {\n",
              "      background-color: #434B5C;\n",
              "      box-shadow: 0px 1px 3px 1px rgba(0, 0, 0, 0.15);\n",
              "      filter: drop-shadow(0px 1px 2px rgba(0, 0, 0, 0.3));\n",
              "      fill: #FFFFFF;\n",
              "    }\n",
              "  </style>\n",
              "\n",
              "      <script>\n",
              "        const buttonEl =\n",
              "          document.querySelector('#df-68c521eb-238e-4026-9ca8-0a15d1186243 button.colab-df-convert');\n",
              "        buttonEl.style.display =\n",
              "          google.colab.kernel.accessAllowed ? 'block' : 'none';\n",
              "\n",
              "        async function convertToInteractive(key) {\n",
              "          const element = document.querySelector('#df-68c521eb-238e-4026-9ca8-0a15d1186243');\n",
              "          const dataTable =\n",
              "            await google.colab.kernel.invokeFunction('convertToInteractive',\n",
              "                                                     [key], {});\n",
              "          if (!dataTable) return;\n",
              "\n",
              "          const docLinkHtml = 'Like what you see? Visit the ' +\n",
              "            '<a target=\"_blank\" href=https://colab.research.google.com/notebooks/data_table.ipynb>data table notebook</a>'\n",
              "            + ' to learn more about interactive tables.';\n",
              "          element.innerHTML = '';\n",
              "          dataTable['output_type'] = 'display_data';\n",
              "          await google.colab.output.renderOutput(dataTable, element);\n",
              "          const docLink = document.createElement('div');\n",
              "          docLink.innerHTML = docLinkHtml;\n",
              "          element.appendChild(docLink);\n",
              "        }\n",
              "      </script>\n",
              "    </div>\n",
              "  </div>\n",
              "  "
            ]
          },
          "metadata": {},
          "execution_count": 26
        }
      ]
    },
    {
      "cell_type": "markdown",
      "source": [
        "#### Построим график полученных результатов"
      ],
      "metadata": {
        "id": "8j-rbroriGBZ"
      }
    },
    {
      "cell_type": "code",
      "source": [
        "plot_result_sample(confidence_interval_pf, 5)"
      ],
      "metadata": {
        "colab": {
          "base_uri": "https://localhost:8080/",
          "height": 279
        },
        "id": "MRL08u9Vd2J9",
        "outputId": "35d5da6a-4630-4723-e76e-91c1dd42d886"
      },
      "execution_count": 27,
      "outputs": [
        {
          "output_type": "display_data",
          "data": {
            "text/plain": [
              "<Figure size 432x288 with 1 Axes>"
            ],
            "image/png": "[encoded data removed]"
          },
          "metadata": {
            "needs_background": "light"
          }
        }
      ]
    },
    {
      "cell_type": "markdown",
      "source": [
        "#### Оценим важность каждого признака \n",
        "(+ попарно, т.к. степень полинома 2)"
      ],
      "metadata": {
        "id": "jWCXFrABiZs3"
      }
    },
    {
      "cell_type": "code",
      "source": [
        "pf_feature_importance = pd.DataFrame({\n",
        "    \"feature\": pipeline.named_steps[\"pf\"].get_feature_names_out(),\n",
        "    \"importance\": np.abs(pipeline.named_steps[\"regressor\"].coef_)\n",
        "})\n",
        "\n",
        "pf_feature_importance = pf_feature_importance[~(pf_feature_importance.feature == \"1\")]\n",
        "pf_feature_importance.reset_index(drop=True).sort_values(by=\"importance\", ascending=False)"
      ],
      "metadata": {
        "colab": {
          "base_uri": "https://localhost:8080/",
          "height": 424
        },
        "id": "s_1rvy0VfsZJ",
        "outputId": "db2c348d-c4cf-455a-e48e-102b48499f16"
      },
      "execution_count": 28,
      "outputs": [
        {
          "output_type": "execute_result",
          "data": {
            "text/plain": [
              "                      feature    importance\n",
              "6                    loudness  1.657197e+00\n",
              "396        loudness Reggaeton  1.392501e+00\n",
              "4            instrumentalness  1.098062e+00\n",
              "283   instrumentalness Comedy  1.040084e+00\n",
              "1160                  Movie^2  9.686660e-01\n",
              "...                       ...           ...\n",
              "1535                   D# 0/4  3.328679e-06\n",
              "644             A Capella 0/4  2.581615e-06\n",
              "1485                    B 0/4  2.211945e-06\n",
              "1569                    G 0/4  8.386496e-07\n",
              "50                        0/4  1.538883e-07\n",
              "\n",
              "[1595 rows x 2 columns]"
            ],
            "text/html": [
              "\n",
              "  <div id=\"df-17597669-0536-4171-a0b3-a484ccdb888b\">\n",
              "    <div class=\"colab-df-container\">\n",
              "      <div>\n",
              "<style scoped>\n",
              "    .dataframe tbody tr th:only-of-type {\n",
              "        vertical-align: middle;\n",
              "    }\n",
              "\n",
              "    .dataframe tbody tr th {\n",
              "        vertical-align: top;\n",
              "    }\n",
              "\n",
              "    .dataframe thead th {\n",
              "        text-align: right;\n",
              "    }\n",
              "</style>\n",
              "<table border=\"1\" class=\"dataframe\">\n",
              "  <thead>\n",
              "    <tr style=\"text-align: right;\">\n",
              "      <th></th>\n",
              "      <th>feature</th>\n",
              "      <th>importance</th>\n",
              "    </tr>\n",
              "  </thead>\n",
              "  <tbody>\n",
              "    <tr>\n",
              "      <th>6</th>\n",
              "      <td>loudness</td>\n",
              "      <td>1.657197e+00</td>\n",
              "    </tr>\n",
              "    <tr>\n",
              "      <th>396</th>\n",
              "      <td>loudness Reggaeton</td>\n",
              "      <td>1.392501e+00</td>\n",
              "    </tr>\n",
              "    <tr>\n",
              "      <th>4</th>\n",
              "      <td>instrumentalness</td>\n",
              "      <td>1.098062e+00</td>\n",
              "    </tr>\n",
              "    <tr>\n",
              "      <th>283</th>\n",
              "      <td>instrumentalness Comedy</td>\n",
              "      <td>1.040084e+00</td>\n",
              "    </tr>\n",
              "    <tr>\n",
              "      <th>1160</th>\n",
              "      <td>Movie^2</td>\n",
              "      <td>9.686660e-01</td>\n",
              "    </tr>\n",
              "    <tr>\n",
              "      <th>...</th>\n",
              "      <td>...</td>\n",
              "      <td>...</td>\n",
              "    </tr>\n",
              "    <tr>\n",
              "      <th>1535</th>\n",
              "      <td>D# 0/4</td>\n",
              "      <td>3.328679e-06</td>\n",
              "    </tr>\n",
              "    <tr>\n",
              "      <th>644</th>\n",
              "      <td>A Capella 0/4</td>\n",
              "      <td>2.581615e-06</td>\n",
              "    </tr>\n",
              "    <tr>\n",
              "      <th>1485</th>\n",
              "      <td>B 0/4</td>\n",
              "      <td>2.211945e-06</td>\n",
              "    </tr>\n",
              "    <tr>\n",
              "      <th>1569</th>\n",
              "      <td>G 0/4</td>\n",
              "      <td>8.386496e-07</td>\n",
              "    </tr>\n",
              "    <tr>\n",
              "      <th>50</th>\n",
              "      <td>0/4</td>\n",
              "      <td>1.538883e-07</td>\n",
              "    </tr>\n",
              "  </tbody>\n",
              "</table>\n",
              "<p>1595 rows × 2 columns</p>\n",
              "</div>\n",
              "      <button class=\"colab-df-convert\" onclick=\"convertToInteractive('df-17597669-0536-4171-a0b3-a484ccdb888b')\"\n",
              "              title=\"Convert this dataframe to an interactive table.\"\n",
              "              style=\"display:none;\">\n",
              "        \n",
              "  <svg xmlns=\"http://www.w3.org/2000/svg\" height=\"24px\"viewBox=\"0 0 24 24\"\n",
              "       width=\"24px\">\n",
              "    <path d=\"M0 0h24v24H0V0z\" fill=\"none\"/>\n",
              "    <path d=\"M18.56 5.44l.94 2.06.94-2.06 2.06-.94-2.06-.94-.94-2.06-.94 2.06-2.06.94zm-11 1L8.5 8.5l.94-2.06 2.06-.94-2.06-.94L8.5 2.5l-.94 2.06-2.06.94zm10 10l.94 2.06.94-2.06 2.06-.94-2.06-.94-.94-2.06-.94 2.06-2.06.94z\"/><path d=\"M17.41 7.96l-1.37-1.37c-.4-.4-.92-.59-1.43-.59-.52 0-1.04.2-1.43.59L10.3 9.45l-7.72 7.72c-.78.78-.78 2.05 0 2.83L4 21.41c.39.39.9.59 1.41.59.51 0 1.02-.2 1.41-.59l7.78-7.78 2.81-2.81c.8-.78.8-2.07 0-2.86zM5.41 20L4 18.59l7.72-7.72 1.47 1.35L5.41 20z\"/>\n",
              "  </svg>\n",
              "      </button>\n",
              "      \n",
              "  <style>\n",
              "    .colab-df-container {\n",
              "      display:flex;\n",
              "      flex-wrap:wrap;\n",
              "      gap: 12px;\n",
              "    }\n",
              "\n",
              "    .colab-df-convert {\n",
              "      background-color: #E8F0FE;\n",
              "      border: none;\n",
              "      border-radius: 50%;\n",
              "      cursor: pointer;\n",
              "      display: none;\n",
              "      fill: #1967D2;\n",
              "      height: 32px;\n",
              "      padding: 0 0 0 0;\n",
              "      width: 32px;\n",
              "    }\n",
              "\n",
              "    .colab-df-convert:hover {\n",
              "      background-color: #E2EBFA;\n",
              "      box-shadow: 0px 1px 2px rgba(60, 64, 67, 0.3), 0px 1px 3px 1px rgba(60, 64, 67, 0.15);\n",
              "      fill: #174EA6;\n",
              "    }\n",
              "\n",
              "    [theme=dark] .colab-df-convert {\n",
              "      background-color: #3B4455;\n",
              "      fill: #D2E3FC;\n",
              "    }\n",
              "\n",
              "    [theme=dark] .colab-df-convert:hover {\n",
              "      background-color: #434B5C;\n",
              "      box-shadow: 0px 1px 3px 1px rgba(0, 0, 0, 0.15);\n",
              "      filter: drop-shadow(0px 1px 2px rgba(0, 0, 0, 0.3));\n",
              "      fill: #FFFFFF;\n",
              "    }\n",
              "  </style>\n",
              "\n",
              "      <script>\n",
              "        const buttonEl =\n",
              "          document.querySelector('#df-17597669-0536-4171-a0b3-a484ccdb888b button.colab-df-convert');\n",
              "        buttonEl.style.display =\n",
              "          google.colab.kernel.accessAllowed ? 'block' : 'none';\n",
              "\n",
              "        async function convertToInteractive(key) {\n",
              "          const element = document.querySelector('#df-17597669-0536-4171-a0b3-a484ccdb888b');\n",
              "          const dataTable =\n",
              "            await google.colab.kernel.invokeFunction('convertToInteractive',\n",
              "                                                     [key], {});\n",
              "          if (!dataTable) return;\n",
              "\n",
              "          const docLinkHtml = 'Like what you see? Visit the ' +\n",
              "            '<a target=\"_blank\" href=https://colab.research.google.com/notebooks/data_table.ipynb>data table notebook</a>'\n",
              "            + ' to learn more about interactive tables.';\n",
              "          element.innerHTML = '';\n",
              "          dataTable['output_type'] = 'display_data';\n",
              "          await google.colab.output.renderOutput(dataTable, element);\n",
              "          const docLink = document.createElement('div');\n",
              "          docLink.innerHTML = docLinkHtml;\n",
              "          element.appendChild(docLink);\n",
              "        }\n",
              "      </script>\n",
              "    </div>\n",
              "  </div>\n",
              "  "
            ]
          },
          "metadata": {},
          "execution_count": 28
        }
      ]
    },
    {
      "cell_type": "markdown",
      "source": [
        "#### Выводы по эксперименту\n",
        "Хоть и результаты полиномиальная регрессия стали немного лучше, по сравнению с линейными моделями, она не является оптимальной для нашего датасета, т.к. при использовании больших степеней, использование ресурсов этой моделью абсолютно неоптимально (с учётом 55 параметров и размере train ~200к объектов довольно очевидно почему).\n",
        "Попробуем более продвинутые модели для достижения лучших предсказаний."
      ],
      "metadata": {
        "id": "Sk9LSmQLjxUj"
      }
    },
    {
      "cell_type": "markdown",
      "source": [
        "### Модель Random Forest"
      ],
      "metadata": {
        "collapsed": false,
        "id": "24w_wtubgmSi"
      }
    },
    {
      "cell_type": "code",
      "execution_count": 29,
      "outputs": [],
      "source": [
        "from sklearn.ensemble import RandomForestRegressor\n",
        "from sklearn.model_selection import GridSearchCV"
      ],
      "metadata": {
        "id": "AXSz5CaogmSi"
      }
    },
    {
      "cell_type": "markdown",
      "source": [
        "#### Обучим модель с подбором гиперпараметров"
      ],
      "metadata": {
        "id": "ZSzbJg8Xh-2B"
      }
    },
    {
      "cell_type": "code",
      "execution_count": 30,
      "outputs": [
        {
          "output_type": "stream",
          "name": "stderr",
          "text": [
            "/usr/local/lib/python3.9/dist-packages/joblib/externals/loky/process_executor.py:702: UserWarning: A worker stopped while some jobs were given to the executor. This can be caused by a too short worker timeout or by a memory leak.\n",
            "  warnings.warn(\n"
          ]
        },
        {
          "output_type": "stream",
          "name": "stdout",
          "text": [
            "Best hyperparameters: {'max_depth': 64, 'max_features': 'sqrt', 'min_samples_leaf': 1, 'min_samples_split': 8, 'n_estimators': 256}\n"
          ]
        }
      ],
      "source": [
        "param_grid = {\n",
        "    \"n_estimators\": [256],\n",
        "    \"max_depth\": [32, 64],\n",
        "    \"min_samples_split\": [8, 16],\n",
        "    \"min_samples_leaf\": [1],\n",
        "    \"max_features\": [\"sqrt\"]\n",
        "}\n",
        "\n",
        "rf = RandomForestRegressor()\n",
        "\n",
        "grid_search_rf = GridSearchCV(rf, param_grid=param_grid, cv=5, n_jobs=6)\n",
        "grid_search_rf.fit(X_train, y_train)\n",
        "y_pred_rf = grid_search_rf.predict(X_test)\n",
        "\n",
        "print(f\"Best hyperparameters: {grid_search_rf.best_params_}\")"
      ],
      "metadata": {
        "id": "cwTVixRPgmSi",
        "outputId": "fda63f59-b133-4ef2-d8a5-75afa5178b28",
        "colab": {
          "base_uri": "https://localhost:8080/"
        }
      }
    },
    {
      "cell_type": "markdown",
      "source": [
        "#### Оценим точность"
      ],
      "metadata": {
        "id": "dAB0JfiCiEUS"
      }
    },
    {
      "cell_type": "code",
      "execution_count": 42,
      "outputs": [
        {
          "output_type": "stream",
          "name": "stdout",
          "text": [
            "MSE: 85.953\n",
            "RMSE: 9.271\n",
            "R2: 0.741\n",
            "MAE: 7.064\n"
          ]
        }
      ],
      "source": [
        "mse_rf, rmse_rf, r2_rf, mae_rf = evaluate_model(y_test, y_pred_rf)\n",
        "\n",
        "print(f\"MSE: {mse_rf:.3f}\\nRMSE: {rmse_rf:.3f}\\nR2: {r2_rf:.3f}\\nMAE: {mae_rf:.3f}\")"
      ],
      "metadata": {
        "id": "rWhmS4gXgmSi",
        "outputId": "abd67279-27dd-43f2-d255-769077709b8d",
        "colab": {
          "base_uri": "https://localhost:8080/"
        }
      }
    },
    {
      "cell_type": "markdown",
      "source": [
        "#### Рассмотрим результаты с учётом доверительного интервала"
      ],
      "metadata": {
        "id": "V7j1xLF3iGzp"
      }
    },
    {
      "cell_type": "code",
      "execution_count": 43,
      "outputs": [
        {
          "output_type": "execute_result",
          "data": {
            "text/plain": [
              "        y_test  lower_bound     y_pred  upper_bound\n",
              "788         45    44.175235  44.371300    44.567365\n",
              "207109      25    32.900695  33.096760    33.292825\n",
              "138644      19    35.316874  35.512939    35.709004\n",
              "37164       29    37.928433  38.124498    38.320563\n",
              "174351      17    23.390117  23.586183    23.782248"
            ],
            "text/html": [
              "\n",
              "  <div id=\"df-057f6606-7634-4e6c-accb-0c859d3506ec\">\n",
              "    <div class=\"colab-df-container\">\n",
              "      <div>\n",
              "<style scoped>\n",
              "    .dataframe tbody tr th:only-of-type {\n",
              "        vertical-align: middle;\n",
              "    }\n",
              "\n",
              "    .dataframe tbody tr th {\n",
              "        vertical-align: top;\n",
              "    }\n",
              "\n",
              "    .dataframe thead th {\n",
              "        text-align: right;\n",
              "    }\n",
              "</style>\n",
              "<table border=\"1\" class=\"dataframe\">\n",
              "  <thead>\n",
              "    <tr style=\"text-align: right;\">\n",
              "      <th></th>\n",
              "      <th>y_test</th>\n",
              "      <th>lower_bound</th>\n",
              "      <th>y_pred</th>\n",
              "      <th>upper_bound</th>\n",
              "    </tr>\n",
              "  </thead>\n",
              "  <tbody>\n",
              "    <tr>\n",
              "      <th>788</th>\n",
              "      <td>45</td>\n",
              "      <td>44.175235</td>\n",
              "      <td>44.371300</td>\n",
              "      <td>44.567365</td>\n",
              "    </tr>\n",
              "    <tr>\n",
              "      <th>207109</th>\n",
              "      <td>25</td>\n",
              "      <td>32.900695</td>\n",
              "      <td>33.096760</td>\n",
              "      <td>33.292825</td>\n",
              "    </tr>\n",
              "    <tr>\n",
              "      <th>138644</th>\n",
              "      <td>19</td>\n",
              "      <td>35.316874</td>\n",
              "      <td>35.512939</td>\n",
              "      <td>35.709004</td>\n",
              "    </tr>\n",
              "    <tr>\n",
              "      <th>37164</th>\n",
              "      <td>29</td>\n",
              "      <td>37.928433</td>\n",
              "      <td>38.124498</td>\n",
              "      <td>38.320563</td>\n",
              "    </tr>\n",
              "    <tr>\n",
              "      <th>174351</th>\n",
              "      <td>17</td>\n",
              "      <td>23.390117</td>\n",
              "      <td>23.586183</td>\n",
              "      <td>23.782248</td>\n",
              "    </tr>\n",
              "  </tbody>\n",
              "</table>\n",
              "</div>\n",
              "      <button class=\"colab-df-convert\" onclick=\"convertToInteractive('df-057f6606-7634-4e6c-accb-0c859d3506ec')\"\n",
              "              title=\"Convert this dataframe to an interactive table.\"\n",
              "              style=\"display:none;\">\n",
              "        \n",
              "  <svg xmlns=\"http://www.w3.org/2000/svg\" height=\"24px\"viewBox=\"0 0 24 24\"\n",
              "       width=\"24px\">\n",
              "    <path d=\"M0 0h24v24H0V0z\" fill=\"none\"/>\n",
              "    <path d=\"M18.56 5.44l.94 2.06.94-2.06 2.06-.94-2.06-.94-.94-2.06-.94 2.06-2.06.94zm-11 1L8.5 8.5l.94-2.06 2.06-.94-2.06-.94L8.5 2.5l-.94 2.06-2.06.94zm10 10l.94 2.06.94-2.06 2.06-.94-2.06-.94-.94-2.06-.94 2.06-2.06.94z\"/><path d=\"M17.41 7.96l-1.37-1.37c-.4-.4-.92-.59-1.43-.59-.52 0-1.04.2-1.43.59L10.3 9.45l-7.72 7.72c-.78.78-.78 2.05 0 2.83L4 21.41c.39.39.9.59 1.41.59.51 0 1.02-.2 1.41-.59l7.78-7.78 2.81-2.81c.8-.78.8-2.07 0-2.86zM5.41 20L4 18.59l7.72-7.72 1.47 1.35L5.41 20z\"/>\n",
              "  </svg>\n",
              "      </button>\n",
              "      \n",
              "  <style>\n",
              "    .colab-df-container {\n",
              "      display:flex;\n",
              "      flex-wrap:wrap;\n",
              "      gap: 12px;\n",
              "    }\n",
              "\n",
              "    .colab-df-convert {\n",
              "      background-color: #E8F0FE;\n",
              "      border: none;\n",
              "      border-radius: 50%;\n",
              "      cursor: pointer;\n",
              "      display: none;\n",
              "      fill: #1967D2;\n",
              "      height: 32px;\n",
              "      padding: 0 0 0 0;\n",
              "      width: 32px;\n",
              "    }\n",
              "\n",
              "    .colab-df-convert:hover {\n",
              "      background-color: #E2EBFA;\n",
              "      box-shadow: 0px 1px 2px rgba(60, 64, 67, 0.3), 0px 1px 3px 1px rgba(60, 64, 67, 0.15);\n",
              "      fill: #174EA6;\n",
              "    }\n",
              "\n",
              "    [theme=dark] .colab-df-convert {\n",
              "      background-color: #3B4455;\n",
              "      fill: #D2E3FC;\n",
              "    }\n",
              "\n",
              "    [theme=dark] .colab-df-convert:hover {\n",
              "      background-color: #434B5C;\n",
              "      box-shadow: 0px 1px 3px 1px rgba(0, 0, 0, 0.15);\n",
              "      filter: drop-shadow(0px 1px 2px rgba(0, 0, 0, 0.3));\n",
              "      fill: #FFFFFF;\n",
              "    }\n",
              "  </style>\n",
              "\n",
              "      <script>\n",
              "        const buttonEl =\n",
              "          document.querySelector('#df-057f6606-7634-4e6c-accb-0c859d3506ec button.colab-df-convert');\n",
              "        buttonEl.style.display =\n",
              "          google.colab.kernel.accessAllowed ? 'block' : 'none';\n",
              "\n",
              "        async function convertToInteractive(key) {\n",
              "          const element = document.querySelector('#df-057f6606-7634-4e6c-accb-0c859d3506ec');\n",
              "          const dataTable =\n",
              "            await google.colab.kernel.invokeFunction('convertToInteractive',\n",
              "                                                     [key], {});\n",
              "          if (!dataTable) return;\n",
              "\n",
              "          const docLinkHtml = 'Like what you see? Visit the ' +\n",
              "            '<a target=\"_blank\" href=https://colab.research.google.com/notebooks/data_table.ipynb>data table notebook</a>'\n",
              "            + ' to learn more about interactive tables.';\n",
              "          element.innerHTML = '';\n",
              "          dataTable['output_type'] = 'display_data';\n",
              "          await google.colab.output.renderOutput(dataTable, element);\n",
              "          const docLink = document.createElement('div');\n",
              "          docLink.innerHTML = docLinkHtml;\n",
              "          element.appendChild(docLink);\n",
              "        }\n",
              "      </script>\n",
              "    </div>\n",
              "  </div>\n",
              "  "
            ]
          },
          "metadata": {},
          "execution_count": 43
        }
      ],
      "source": [
        "confidence_interval_rf = create_confidence_interval_df(y_test, y_pred_rf)\n",
        "\n",
        "confidence_interval_rf.head(5)"
      ],
      "metadata": {
        "id": "1OMUF7eOgmSi",
        "outputId": "805426de-3eb0-44de-cef3-5120276b35b6",
        "colab": {
          "base_uri": "https://localhost:8080/",
          "height": 206
        }
      }
    },
    {
      "cell_type": "markdown",
      "source": [
        "#### Построим график полученных результатов"
      ],
      "metadata": {
        "id": "0nHjfL7qiLb8"
      }
    },
    {
      "cell_type": "code",
      "execution_count": 44,
      "outputs": [
        {
          "output_type": "display_data",
          "data": {
            "text/plain": [
              "<Figure size 432x288 with 1 Axes>"
            ],
            "image/png": "[encoded data removed]"
          },
          "metadata": {
            "needs_background": "light"
          }
        }
      ],
      "source": [
        "plot_result_sample(confidence_interval_rf, 5)"
      ],
      "metadata": {
        "id": "arNqMNOUgmSi",
        "outputId": "b620ca23-5910-4f72-9869-5c85c7ecb479",
        "colab": {
          "base_uri": "https://localhost:8080/",
          "height": 279
        }
      }
    },
    {
      "cell_type": "markdown",
      "source": [
        "#### Выводы по эксперименту\n",
        "Модель случайного леса показала качественно лучшие результаты, чем предыдущие модели. Стоит также понимать, что были подобраны не идеальные гиперпараметры, т.к. это заняло бы слишком большое количество времени и ресурсов. Но, проведя несколько экспериментов, вполне понятно, в какую сторону каждый из параметров можно улучшить. Рассмотрим модель из одного из основных фреймфорков для ML в Python - Keras и проведём сравнение."
      ],
      "metadata": {
        "id": "mY_SqAMUiTzU"
      }
    },
    {
      "cell_type": "markdown",
      "source": [
        "### Модель MLP"
      ],
      "metadata": {
        "id": "sT1M9noykLA2"
      }
    },
    {
      "cell_type": "code",
      "execution_count": 45,
      "outputs": [],
      "source": [
        "from keras.models import Sequential\n",
        "from keras.layers import Dense, Dropout\n",
        "from keras import regularizers"
      ],
      "metadata": {
        "id": "BVzaTH30gmSj"
      }
    },
    {
      "cell_type": "markdown",
      "source": [
        "#### Разделим train выборку, отделив validation данные"
      ],
      "metadata": {
        "id": "lt7aKYwOklIn"
      }
    },
    {
      "cell_type": "code",
      "execution_count": 46,
      "outputs": [],
      "source": [
        "X_train, X_val, y_train, y_val = train_test_split(X_train, y_train, train_size=0.9, random_state=42)"
      ],
      "metadata": {
        "id": "jLRUKE9LgmSj"
      }
    },
    {
      "cell_type": "markdown",
      "source": [
        "#### Составим модель и обучим её"
      ],
      "metadata": {
        "id": "EMoM7TOHktI-"
      }
    },
    {
      "cell_type": "code",
      "execution_count": 47,
      "outputs": [
        {
          "output_type": "stream",
          "name": "stdout",
          "text": [
            "Epoch 1/50\n",
            "5891/5891 [==============================] - 62s 10ms/step - loss: 124.2388 - val_loss: 94.9562\n",
            "Epoch 2/50\n",
            "5891/5891 [==============================] - 61s 10ms/step - loss: 114.1041 - val_loss: 94.0448\n",
            "Epoch 3/50\n",
            "5891/5891 [==============================] - 61s 10ms/step - loss: 112.0887 - val_loss: 91.9800\n",
            "Epoch 4/50\n",
            "5891/5891 [==============================] - 61s 10ms/step - loss: 111.0049 - val_loss: 90.9038\n",
            "Epoch 5/50\n",
            "5891/5891 [==============================] - 61s 10ms/step - loss: 109.4558 - val_loss: 94.5573\n",
            "Epoch 6/50\n",
            "5891/5891 [==============================] - 59s 10ms/step - loss: 108.1180 - val_loss: 90.8058\n",
            "Epoch 7/50\n",
            "5891/5891 [==============================] - 61s 10ms/step - loss: 107.1308 - val_loss: 96.7519\n",
            "Epoch 8/50\n",
            "5891/5891 [==============================] - 60s 10ms/step - loss: 106.2082 - val_loss: 90.4207\n",
            "Epoch 9/50\n",
            "5891/5891 [==============================] - 58s 10ms/step - loss: 105.0972 - val_loss: 90.9155\n",
            "Epoch 10/50\n",
            "5891/5891 [==============================] - 60s 10ms/step - loss: 103.7985 - val_loss: 89.8775\n",
            "Epoch 11/50\n",
            "5891/5891 [==============================] - 60s 10ms/step - loss: 102.8915 - val_loss: 89.8464\n",
            "Epoch 12/50\n",
            "5891/5891 [==============================] - 60s 10ms/step - loss: 102.2926 - val_loss: 90.0300\n",
            "Epoch 13/50\n",
            "5891/5891 [==============================] - 59s 10ms/step - loss: 101.4775 - val_loss: 90.4628\n",
            "Epoch 14/50\n",
            "5891/5891 [==============================] - 59s 10ms/step - loss: 100.5390 - val_loss: 89.9583\n",
            "Epoch 15/50\n",
            "5891/5891 [==============================] - 60s 10ms/step - loss: 99.6909 - val_loss: 92.7173\n",
            "Epoch 16/50\n",
            "5891/5891 [==============================] - 59s 10ms/step - loss: 99.3888 - val_loss: 90.0215\n",
            "Epoch 17/50\n",
            "5891/5891 [==============================] - 59s 10ms/step - loss: 98.5398 - val_loss: 89.6638\n",
            "Epoch 18/50\n",
            "5891/5891 [==============================] - 59s 10ms/step - loss: 97.9956 - val_loss: 90.4062\n",
            "Epoch 19/50\n",
            "5891/5891 [==============================] - 61s 10ms/step - loss: 97.6626 - val_loss: 89.3434\n",
            "Epoch 20/50\n",
            "5891/5891 [==============================] - 60s 10ms/step - loss: 97.0508 - val_loss: 89.7071\n",
            "Epoch 21/50\n",
            "5891/5891 [==============================] - 60s 10ms/step - loss: 96.8299 - val_loss: 89.3771\n",
            "Epoch 22/50\n",
            "5891/5891 [==============================] - 58s 10ms/step - loss: 96.3074 - val_loss: 89.6680\n",
            "Epoch 23/50\n",
            "5891/5891 [==============================] - 60s 10ms/step - loss: 96.2035 - val_loss: 90.7993\n",
            "Epoch 24/50\n",
            "5891/5891 [==============================] - 60s 10ms/step - loss: 95.7507 - val_loss: 88.9482\n",
            "Epoch 25/50\n",
            "5891/5891 [==============================] - 61s 10ms/step - loss: 95.3840 - val_loss: 90.2275\n",
            "Epoch 26/50\n",
            "5891/5891 [==============================] - 61s 10ms/step - loss: 95.3171 - val_loss: 89.4636\n",
            "Epoch 27/50\n",
            "5891/5891 [==============================] - 59s 10ms/step - loss: 95.1854 - val_loss: 89.6372\n",
            "Epoch 28/50\n",
            "5891/5891 [==============================] - 59s 10ms/step - loss: 94.9355 - val_loss: 88.8408\n",
            "Epoch 29/50\n",
            "5891/5891 [==============================] - 60s 10ms/step - loss: 94.7392 - val_loss: 89.4921\n",
            "Epoch 30/50\n",
            "5891/5891 [==============================] - 59s 10ms/step - loss: 94.5302 - val_loss: 89.5274\n",
            "Epoch 31/50\n",
            "5891/5891 [==============================] - 59s 10ms/step - loss: 94.3546 - val_loss: 90.3856\n",
            "Epoch 32/50\n",
            "5891/5891 [==============================] - 61s 10ms/step - loss: 94.3332 - val_loss: 89.7087\n",
            "Epoch 33/50\n",
            "5891/5891 [==============================] - 59s 10ms/step - loss: 93.9650 - val_loss: 89.4181\n",
            "Epoch 34/50\n",
            "5891/5891 [==============================] - 61s 10ms/step - loss: 94.0270 - val_loss: 89.7426\n",
            "Epoch 35/50\n",
            "5891/5891 [==============================] - 60s 10ms/step - loss: 93.8614 - val_loss: 91.7533\n",
            "Epoch 36/50\n",
            "5891/5891 [==============================] - 60s 10ms/step - loss: 93.5380 - val_loss: 90.4164\n",
            "Epoch 37/50\n",
            "5891/5891 [==============================] - 60s 10ms/step - loss: 93.8343 - val_loss: 89.6405\n",
            "Epoch 38/50\n",
            "5891/5891 [==============================] - 59s 10ms/step - loss: 93.8127 - val_loss: 89.5935\n",
            "Epoch 39/50\n",
            "5891/5891 [==============================] - 61s 10ms/step - loss: 93.5589 - val_loss: 89.2615\n",
            "Epoch 40/50\n",
            "5891/5891 [==============================] - 60s 10ms/step - loss: 93.5901 - val_loss: 90.5044\n",
            "Epoch 41/50\n",
            "5891/5891 [==============================] - 60s 10ms/step - loss: 93.4586 - val_loss: 89.7325\n",
            "Epoch 42/50\n",
            "5891/5891 [==============================] - 61s 10ms/step - loss: 93.2921 - val_loss: 89.9053\n",
            "Epoch 43/50\n",
            "5891/5891 [==============================] - 60s 10ms/step - loss: 93.4634 - val_loss: 90.7815\n",
            "Epoch 44/50\n",
            "5891/5891 [==============================] - 60s 10ms/step - loss: 93.3843 - val_loss: 90.8242\n",
            "Epoch 45/50\n",
            "5891/5891 [==============================] - 60s 10ms/step - loss: 93.3533 - val_loss: 89.4853\n",
            "Epoch 46/50\n",
            "5891/5891 [==============================] - 59s 10ms/step - loss: 93.2076 - val_loss: 89.6922\n",
            "Epoch 47/50\n",
            "5891/5891 [==============================] - 61s 10ms/step - loss: 93.0291 - val_loss: 90.0587\n",
            "Epoch 48/50\n",
            "5891/5891 [==============================] - 61s 10ms/step - loss: 92.9408 - val_loss: 89.8211\n",
            "Epoch 49/50\n",
            "5891/5891 [==============================] - 61s 10ms/step - loss: 92.9488 - val_loss: 90.9549\n",
            "Epoch 50/50\n",
            "5891/5891 [==============================] - 60s 10ms/step - loss: 92.9745 - val_loss: 89.9460\n",
            "728/728 [==============================] - 2s 3ms/step\n"
          ]
        }
      ],
      "source": [
        "model = Sequential()\n",
        "model.add(Dense(1024, input_dim=55, activation=\"relu\", kernel_regularizer=regularizers.l2(10 ** -3)))\n",
        "model.add(Dropout(0.2))\n",
        "model.add(Dense(256, activation=\"relu\", kernel_regularizer=regularizers.l2(10 ** -3)))\n",
        "model.add(Dropout(0.2))\n",
        "model.add(Dense(64, activation=\"relu\", kernel_regularizer=regularizers.l2(10 ** -3)))\n",
        "model.add(Dropout(0.2))\n",
        "model.add(Dense(1, activation=\"linear\"))\n",
        "\n",
        "model.compile(optimizer=\"adam\", loss=\"mean_squared_error\")\n",
        "history = model.fit(X_train, y_train, epochs=50, batch_size=32, validation_data=(X_val, y_val))\n",
        "y_pred_mlp = model.predict(X_test)"
      ],
      "metadata": {
        "colab": {
          "base_uri": "https://localhost:8080/"
        },
        "id": "O4TJgRgbgmSj",
        "outputId": "c30a5e8c-6a35-4218-bada-2fdc16b1be08"
      }
    },
    {
      "cell_type": "markdown",
      "source": [
        "#### Графически оценим train и validation loss"
      ],
      "metadata": {
        "id": "pLZoaWqGkvb9"
      }
    },
    {
      "cell_type": "code",
      "execution_count": 48,
      "outputs": [
        {
          "output_type": "display_data",
          "data": {
            "text/plain": [
              "<Figure size 432x288 with 1 Axes>"
            ],
            "image/png": "[encoded data removed]"
          },
          "metadata": {
            "needs_background": "light"
          }
        }
      ],
      "source": [
        "train_loss = history.history[\"loss\"]\n",
        "val_loss = history.history[\"val_loss\"]\n",
        "\n",
        "epochs = np.arange(1, len(train_loss) + 1)\n",
        "plt.plot(epochs, train_loss, \"orange\", label=\"Training loss\")\n",
        "plt.plot(epochs, val_loss, \"blue\", label=\"Validation loss\")\n",
        "plt.title(\"Training and validation loss\")\n",
        "plt.xlabel(\"Epochs\")\n",
        "plt.ylabel(\"Loss\")\n",
        "plt.legend()\n",
        "plt.show()"
      ],
      "metadata": {
        "colab": {
          "base_uri": "https://localhost:8080/",
          "height": 295
        },
        "id": "nfAIx10jgmSj",
        "outputId": "6b03c2f3-9eb1-4356-a614-10079a9a6dc0"
      }
    },
    {
      "cell_type": "markdown",
      "source": [
        "#### Оценим точность"
      ],
      "metadata": {
        "id": "ltHY1KrRk2N5"
      }
    },
    {
      "cell_type": "code",
      "execution_count": 49,
      "outputs": [
        {
          "output_type": "stream",
          "name": "stdout",
          "text": [
            "MSE: 88.617\n",
            "RMSE: 9.414\n",
            "R2: 0.733\n",
            "MAE: 7.165\n"
          ]
        }
      ],
      "source": [
        "mse_mlp, rmse_mlp, r2_mlp, mae_mlp = evaluate_model(y_test, y_pred_mlp)\n",
        "\n",
        "print(f\"MSE: {mse_mlp:.3f}\\nRMSE: {rmse_mlp:.3f}\\nR2: {r2_mlp:.3f}\\nMAE: {mae_mlp:.3f}\")"
      ],
      "metadata": {
        "colab": {
          "base_uri": "https://localhost:8080/"
        },
        "id": "d6oQCBmJgmSj",
        "outputId": "72d05852-0cc0-489b-e2ac-d586e4cfdae3"
      }
    },
    {
      "cell_type": "markdown",
      "source": [
        "#### Рассмотрим результаты с учётом доверительного интервала"
      ],
      "metadata": {
        "id": "xDhwlq2mlWx5"
      }
    },
    {
      "cell_type": "code",
      "execution_count": 50,
      "outputs": [
        {
          "output_type": "execute_result",
          "data": {
            "text/plain": [
              "        y_test  lower_bound     y_pred  upper_bound\n",
              "788         45    46.558384  46.761482    46.964581\n",
              "207109      25    31.732239  31.935337    32.138435\n",
              "138644      19    36.426426  36.629524    36.832623\n",
              "37164       29    40.204723  40.407822    40.610920\n",
              "174351      17    21.948702  22.151800    22.354898"
            ],
            "text/html": [
              "\n",
              "  <div id=\"df-b74c8c28-45c1-4089-b348-156d23d646f8\">\n",
              "    <div class=\"colab-df-container\">\n",
              "      <div>\n",
              "<style scoped>\n",
              "    .dataframe tbody tr th:only-of-type {\n",
              "        vertical-align: middle;\n",
              "    }\n",
              "\n",
              "    .dataframe tbody tr th {\n",
              "        vertical-align: top;\n",
              "    }\n",
              "\n",
              "    .dataframe thead th {\n",
              "        text-align: right;\n",
              "    }\n",
              "</style>\n",
              "<table border=\"1\" class=\"dataframe\">\n",
              "  <thead>\n",
              "    <tr style=\"text-align: right;\">\n",
              "      <th></th>\n",
              "      <th>y_test</th>\n",
              "      <th>lower_bound</th>\n",
              "      <th>y_pred</th>\n",
              "      <th>upper_bound</th>\n",
              "    </tr>\n",
              "  </thead>\n",
              "  <tbody>\n",
              "    <tr>\n",
              "      <th>788</th>\n",
              "      <td>45</td>\n",
              "      <td>46.558384</td>\n",
              "      <td>46.761482</td>\n",
              "      <td>46.964581</td>\n",
              "    </tr>\n",
              "    <tr>\n",
              "      <th>207109</th>\n",
              "      <td>25</td>\n",
              "      <td>31.732239</td>\n",
              "      <td>31.935337</td>\n",
              "      <td>32.138435</td>\n",
              "    </tr>\n",
              "    <tr>\n",
              "      <th>138644</th>\n",
              "      <td>19</td>\n",
              "      <td>36.426426</td>\n",
              "      <td>36.629524</td>\n",
              "      <td>36.832623</td>\n",
              "    </tr>\n",
              "    <tr>\n",
              "      <th>37164</th>\n",
              "      <td>29</td>\n",
              "      <td>40.204723</td>\n",
              "      <td>40.407822</td>\n",
              "      <td>40.610920</td>\n",
              "    </tr>\n",
              "    <tr>\n",
              "      <th>174351</th>\n",
              "      <td>17</td>\n",
              "      <td>21.948702</td>\n",
              "      <td>22.151800</td>\n",
              "      <td>22.354898</td>\n",
              "    </tr>\n",
              "  </tbody>\n",
              "</table>\n",
              "</div>\n",
              "      <button class=\"colab-df-convert\" onclick=\"convertToInteractive('df-b74c8c28-45c1-4089-b348-156d23d646f8')\"\n",
              "              title=\"Convert this dataframe to an interactive table.\"\n",
              "              style=\"display:none;\">\n",
              "        \n",
              "  <svg xmlns=\"http://www.w3.org/2000/svg\" height=\"24px\"viewBox=\"0 0 24 24\"\n",
              "       width=\"24px\">\n",
              "    <path d=\"M0 0h24v24H0V0z\" fill=\"none\"/>\n",
              "    <path d=\"M18.56 5.44l.94 2.06.94-2.06 2.06-.94-2.06-.94-.94-2.06-.94 2.06-2.06.94zm-11 1L8.5 8.5l.94-2.06 2.06-.94-2.06-.94L8.5 2.5l-.94 2.06-2.06.94zm10 10l.94 2.06.94-2.06 2.06-.94-2.06-.94-.94-2.06-.94 2.06-2.06.94z\"/><path d=\"M17.41 7.96l-1.37-1.37c-.4-.4-.92-.59-1.43-.59-.52 0-1.04.2-1.43.59L10.3 9.45l-7.72 7.72c-.78.78-.78 2.05 0 2.83L4 21.41c.39.39.9.59 1.41.59.51 0 1.02-.2 1.41-.59l7.78-7.78 2.81-2.81c.8-.78.8-2.07 0-2.86zM5.41 20L4 18.59l7.72-7.72 1.47 1.35L5.41 20z\"/>\n",
              "  </svg>\n",
              "      </button>\n",
              "      \n",
              "  <style>\n",
              "    .colab-df-container {\n",
              "      display:flex;\n",
              "      flex-wrap:wrap;\n",
              "      gap: 12px;\n",
              "    }\n",
              "\n",
              "    .colab-df-convert {\n",
              "      background-color: #E8F0FE;\n",
              "      border: none;\n",
              "      border-radius: 50%;\n",
              "      cursor: pointer;\n",
              "      display: none;\n",
              "      fill: #1967D2;\n",
              "      height: 32px;\n",
              "      padding: 0 0 0 0;\n",
              "      width: 32px;\n",
              "    }\n",
              "\n",
              "    .colab-df-convert:hover {\n",
              "      background-color: #E2EBFA;\n",
              "      box-shadow: 0px 1px 2px rgba(60, 64, 67, 0.3), 0px 1px 3px 1px rgba(60, 64, 67, 0.15);\n",
              "      fill: #174EA6;\n",
              "    }\n",
              "\n",
              "    [theme=dark] .colab-df-convert {\n",
              "      background-color: #3B4455;\n",
              "      fill: #D2E3FC;\n",
              "    }\n",
              "\n",
              "    [theme=dark] .colab-df-convert:hover {\n",
              "      background-color: #434B5C;\n",
              "      box-shadow: 0px 1px 3px 1px rgba(0, 0, 0, 0.15);\n",
              "      filter: drop-shadow(0px 1px 2px rgba(0, 0, 0, 0.3));\n",
              "      fill: #FFFFFF;\n",
              "    }\n",
              "  </style>\n",
              "\n",
              "      <script>\n",
              "        const buttonEl =\n",
              "          document.querySelector('#df-b74c8c28-45c1-4089-b348-156d23d646f8 button.colab-df-convert');\n",
              "        buttonEl.style.display =\n",
              "          google.colab.kernel.accessAllowed ? 'block' : 'none';\n",
              "\n",
              "        async function convertToInteractive(key) {\n",
              "          const element = document.querySelector('#df-b74c8c28-45c1-4089-b348-156d23d646f8');\n",
              "          const dataTable =\n",
              "            await google.colab.kernel.invokeFunction('convertToInteractive',\n",
              "                                                     [key], {});\n",
              "          if (!dataTable) return;\n",
              "\n",
              "          const docLinkHtml = 'Like what you see? Visit the ' +\n",
              "            '<a target=\"_blank\" href=https://colab.research.google.com/notebooks/data_table.ipynb>data table notebook</a>'\n",
              "            + ' to learn more about interactive tables.';\n",
              "          element.innerHTML = '';\n",
              "          dataTable['output_type'] = 'display_data';\n",
              "          await google.colab.output.renderOutput(dataTable, element);\n",
              "          const docLink = document.createElement('div');\n",
              "          docLink.innerHTML = docLinkHtml;\n",
              "          element.appendChild(docLink);\n",
              "        }\n",
              "      </script>\n",
              "    </div>\n",
              "  </div>\n",
              "  "
            ]
          },
          "metadata": {},
          "execution_count": 50
        }
      ],
      "source": [
        "y_pred_mlp = list(y_pred_mlp.flat)\n",
        "confidence_interval_mlp = create_confidence_interval_df(y_test, y_pred_mlp)\n",
        "\n",
        "confidence_interval_mlp.head(5)"
      ],
      "metadata": {
        "colab": {
          "base_uri": "https://localhost:8080/",
          "height": 206
        },
        "id": "fMaALfk6gmSj",
        "outputId": "1d8caa20-5738-41d9-cff9-7a99c26284a7"
      }
    },
    {
      "cell_type": "markdown",
      "source": [
        "#### Построим график полученных результатов"
      ],
      "metadata": {
        "id": "q2Sb0Txglh8R"
      }
    },
    {
      "cell_type": "code",
      "execution_count": 51,
      "outputs": [
        {
          "output_type": "display_data",
          "data": {
            "text/plain": [
              "<Figure size 432x288 with 1 Axes>"
            ],
            "image/png": "[encoded data removed]"
          },
          "metadata": {
            "needs_background": "light"
          }
        }
      ],
      "source": [
        "plot_result_sample(confidence_interval_mlp, 5)"
      ],
      "metadata": {
        "colab": {
          "base_uri": "https://localhost:8080/",
          "height": 279
        },
        "id": "ERt0IzqcgmSj",
        "outputId": "249ff858-2b07-42d7-96a8-8a5bf155c793"
      }
    },
    {
      "cell_type": "markdown",
      "source": [
        "#### Выводы по модели"
      ],
      "metadata": {
        "id": "cSvTtPQ2l29Y"
      }
    },
    {
      "cell_type": "markdown",
      "source": [
        "### Результаты в единой таблице для наглядности"
      ],
      "metadata": {
        "id": "LvpDiXXxl0YZ"
      }
    },
    {
      "cell_type": "code",
      "execution_count": 52,
      "outputs": [
        {
          "output_type": "execute_result",
          "data": {
            "text/plain": [
              "                    model        mse      rmse       r^2       mae\n",
              "0                  linear  92.716939  9.628964  0.720202  7.298955\n",
              "1                   ridge  92.717042  9.628969  0.720202  7.299121\n",
              "2              polynomial  89.369489  9.453544  0.730304  7.187606\n",
              "3           random forest  85.953429  9.271107  0.740613  7.063518\n",
              "4  multi-layer perceptron  88.617280  9.413675  0.732574  7.165123"
            ],
            "text/html": [
              "\n",
              "  <div id=\"df-3d8fa7ff-7f8d-4162-a1a9-19c067041efc\">\n",
              "    <div class=\"colab-df-container\">\n",
              "      <div>\n",
              "<style scoped>\n",
              "    .dataframe tbody tr th:only-of-type {\n",
              "        vertical-align: middle;\n",
              "    }\n",
              "\n",
              "    .dataframe tbody tr th {\n",
              "        vertical-align: top;\n",
              "    }\n",
              "\n",
              "    .dataframe thead th {\n",
              "        text-align: right;\n",
              "    }\n",
              "</style>\n",
              "<table border=\"1\" class=\"dataframe\">\n",
              "  <thead>\n",
              "    <tr style=\"text-align: right;\">\n",
              "      <th></th>\n",
              "      <th>model</th>\n",
              "      <th>mse</th>\n",
              "      <th>rmse</th>\n",
              "      <th>r^2</th>\n",
              "      <th>mae</th>\n",
              "    </tr>\n",
              "  </thead>\n",
              "  <tbody>\n",
              "    <tr>\n",
              "      <th>0</th>\n",
              "      <td>linear</td>\n",
              "      <td>92.716939</td>\n",
              "      <td>9.628964</td>\n",
              "      <td>0.720202</td>\n",
              "      <td>7.298955</td>\n",
              "    </tr>\n",
              "    <tr>\n",
              "      <th>1</th>\n",
              "      <td>ridge</td>\n",
              "      <td>92.717042</td>\n",
              "      <td>9.628969</td>\n",
              "      <td>0.720202</td>\n",
              "      <td>7.299121</td>\n",
              "    </tr>\n",
              "    <tr>\n",
              "      <th>2</th>\n",
              "      <td>polynomial</td>\n",
              "      <td>89.369489</td>\n",
              "      <td>9.453544</td>\n",
              "      <td>0.730304</td>\n",
              "      <td>7.187606</td>\n",
              "    </tr>\n",
              "    <tr>\n",
              "      <th>3</th>\n",
              "      <td>random forest</td>\n",
              "      <td>85.953429</td>\n",
              "      <td>9.271107</td>\n",
              "      <td>0.740613</td>\n",
              "      <td>7.063518</td>\n",
              "    </tr>\n",
              "    <tr>\n",
              "      <th>4</th>\n",
              "      <td>multi-layer perceptron</td>\n",
              "      <td>88.617280</td>\n",
              "      <td>9.413675</td>\n",
              "      <td>0.732574</td>\n",
              "      <td>7.165123</td>\n",
              "    </tr>\n",
              "  </tbody>\n",
              "</table>\n",
              "</div>\n",
              "      <button class=\"colab-df-convert\" onclick=\"convertToInteractive('df-3d8fa7ff-7f8d-4162-a1a9-19c067041efc')\"\n",
              "              title=\"Convert this dataframe to an interactive table.\"\n",
              "              style=\"display:none;\">\n",
              "        \n",
              "  <svg xmlns=\"http://www.w3.org/2000/svg\" height=\"24px\"viewBox=\"0 0 24 24\"\n",
              "       width=\"24px\">\n",
              "    <path d=\"M0 0h24v24H0V0z\" fill=\"none\"/>\n",
              "    <path d=\"M18.56 5.44l.94 2.06.94-2.06 2.06-.94-2.06-.94-.94-2.06-.94 2.06-2.06.94zm-11 1L8.5 8.5l.94-2.06 2.06-.94-2.06-.94L8.5 2.5l-.94 2.06-2.06.94zm10 10l.94 2.06.94-2.06 2.06-.94-2.06-.94-.94-2.06-.94 2.06-2.06.94z\"/><path d=\"M17.41 7.96l-1.37-1.37c-.4-.4-.92-.59-1.43-.59-.52 0-1.04.2-1.43.59L10.3 9.45l-7.72 7.72c-.78.78-.78 2.05 0 2.83L4 21.41c.39.39.9.59 1.41.59.51 0 1.02-.2 1.41-.59l7.78-7.78 2.81-2.81c.8-.78.8-2.07 0-2.86zM5.41 20L4 18.59l7.72-7.72 1.47 1.35L5.41 20z\"/>\n",
              "  </svg>\n",
              "      </button>\n",
              "      \n",
              "  <style>\n",
              "    .colab-df-container {\n",
              "      display:flex;\n",
              "      flex-wrap:wrap;\n",
              "      gap: 12px;\n",
              "    }\n",
              "\n",
              "    .colab-df-convert {\n",
              "      background-color: #E8F0FE;\n",
              "      border: none;\n",
              "      border-radius: 50%;\n",
              "      cursor: pointer;\n",
              "      display: none;\n",
              "      fill: #1967D2;\n",
              "      height: 32px;\n",
              "      padding: 0 0 0 0;\n",
              "      width: 32px;\n",
              "    }\n",
              "\n",
              "    .colab-df-convert:hover {\n",
              "      background-color: #E2EBFA;\n",
              "      box-shadow: 0px 1px 2px rgba(60, 64, 67, 0.3), 0px 1px 3px 1px rgba(60, 64, 67, 0.15);\n",
              "      fill: #174EA6;\n",
              "    }\n",
              "\n",
              "    [theme=dark] .colab-df-convert {\n",
              "      background-color: #3B4455;\n",
              "      fill: #D2E3FC;\n",
              "    }\n",
              "\n",
              "    [theme=dark] .colab-df-convert:hover {\n",
              "      background-color: #434B5C;\n",
              "      box-shadow: 0px 1px 3px 1px rgba(0, 0, 0, 0.15);\n",
              "      filter: drop-shadow(0px 1px 2px rgba(0, 0, 0, 0.3));\n",
              "      fill: #FFFFFF;\n",
              "    }\n",
              "  </style>\n",
              "\n",
              "      <script>\n",
              "        const buttonEl =\n",
              "          document.querySelector('#df-3d8fa7ff-7f8d-4162-a1a9-19c067041efc button.colab-df-convert');\n",
              "        buttonEl.style.display =\n",
              "          google.colab.kernel.accessAllowed ? 'block' : 'none';\n",
              "\n",
              "        async function convertToInteractive(key) {\n",
              "          const element = document.querySelector('#df-3d8fa7ff-7f8d-4162-a1a9-19c067041efc');\n",
              "          const dataTable =\n",
              "            await google.colab.kernel.invokeFunction('convertToInteractive',\n",
              "                                                     [key], {});\n",
              "          if (!dataTable) return;\n",
              "\n",
              "          const docLinkHtml = 'Like what you see? Visit the ' +\n",
              "            '<a target=\"_blank\" href=https://colab.research.google.com/notebooks/data_table.ipynb>data table notebook</a>'\n",
              "            + ' to learn more about interactive tables.';\n",
              "          element.innerHTML = '';\n",
              "          dataTable['output_type'] = 'display_data';\n",
              "          await google.colab.output.renderOutput(dataTable, element);\n",
              "          const docLink = document.createElement('div');\n",
              "          docLink.innerHTML = docLinkHtml;\n",
              "          element.appendChild(docLink);\n",
              "        }\n",
              "      </script>\n",
              "    </div>\n",
              "  </div>\n",
              "  "
            ]
          },
          "metadata": {},
          "execution_count": 52
        }
      ],
      "source": [
        "model_validation_df = pd.DataFrame({\n",
        "    \"model\": [\"linear\", \"ridge\", \"polynomial\", \"random forest\", \"multi-layer perceptron\"],\n",
        "    \"mse\": [mse_lr, mse_rr, mse_pf, mse_rf, mse_mlp],\n",
        "    \"rmse\": [rmse_lr, rmse_rr, rmse_pf, rmse_rf, rmse_mlp],\n",
        "    \"r^2\": [r2_lr, r2_rr, r2_pf, r2_rf, r2_mlp],\n",
        "    \"mae\": [mae_lr, mae_rr, mae_pf, mae_rf, mae_mlp],\n",
        "})\n",
        "\n",
        "model_validation_df"
      ],
      "metadata": {
        "colab": {
          "base_uri": "https://localhost:8080/",
          "height": 206
        },
        "id": "bbKDU9DygmSj",
        "outputId": "91f452db-55ed-4da5-fb81-04507adfc5dc"
      }
    },
    {
      "cell_type": "markdown",
      "source": [
        "### Общий вывод\n",
        "По сводному датасету метрик качества видно, что на первом месте идёт random forest, после него mlp, а далее polynomial. С учётом неоправданно большого количества ресурсов, необходимых для последнего (уже степень 3 требует больше ОЗУ, чем может выделить бесплатный google colab), можно считать победителями 2 последние модели. Учтём также и то, что у них есть задел на улучшение, заключающийся в подборе структуры модели и гиперпараметров. \n",
        "\n",
        "Результаты экспериментов в общем можно считать вполне приемлимыми, MSE=7 и R^2=0.74 для случайного леса - это, как мне кажется, вполне качественное решение задачи регрессии, которое могло быть использовано музыкантом для проверки актуальности своей работу для публики. Но нужно понимать, что результаты предсказаний порой не слишком точны, что является довольно логичным, т.к. на популярность песни могут влиять события, которые никак не отражены в датасете (актуальная тема, какие-либо вещи, связанные с артистом / группой).\n",
        "\n",
        "Что можно улучшить?\n",
        "+ Попробовать заменить One Hot Encoding, на, к примеру, Hashing Trick или другие аналоги. Я не уверен, что это даст качественный прирост, но небольшой вполне возможен.\n",
        "+ С большими вычислительными ресурсами подобрать более удачные гиперпараметры для Random Forest. Не знаю, на каком этапе остановится сходимость MSE, но задел для прогресса там точно есть.\n",
        "+ Попробовать поиграться со слоями, функциями активации и прочими параметрами MLP. Лично я провёл около 5 запусков с разными параметрами, и, уверен, что можно выбрать их релевантнее, что опять же требует времени и ресурсов."
      ],
      "metadata": {
        "id": "CsDPwH5lmx6s"
      }
    }
  ],
  "metadata": {
    "kernelspec": {
      "display_name": "Python 3 (ipykernel)",
      "language": "python",
      "name": "python3"
    },
    "language_info": {
      "codemirror_mode": {
        "name": "ipython",
        "version": 3
      },
      "file_extension": ".py",
      "mimetype": "text/x-python",
      "name": "python",
      "nbconvert_exporter": "python",
      "pygments_lexer": "ipython3",
      "version": "3.11.2"
    },
    "colab": {
      "provenance": [],
      "toc_visible": true
    }
  },
  "nbformat": 4,
  "nbformat_minor": 0
}